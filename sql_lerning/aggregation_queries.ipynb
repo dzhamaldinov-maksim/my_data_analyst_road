{
 "cells": [
  {
   "cell_type": "markdown",
   "metadata": {},
   "source": [
    "**#1**\n",
    "\n",
    "Задание:\n",
    "Выведите id всех уникальных пользователей из таблицы user_actions. Результат отсортируйте по возрастанию id.\n",
    "\n",
    "Поле в результирующей таблице: user_id\n",
    "\n",
    "SELECT DISTINCT user_id\n",
    "FROM   user_actions\n",
    "ORDER BY user_id"
   ]
  }
 ],
 "metadata": {
  "language_info": {
   "name": "python"
  }
 },
 "nbformat": 4,
 "nbformat_minor": 2
}
