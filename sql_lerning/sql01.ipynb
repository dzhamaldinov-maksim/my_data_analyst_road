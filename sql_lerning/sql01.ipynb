{
 "cells": [
  {
   "cell_type": "markdown",
   "metadata": {},
   "source": [
    "Правильный порядок операторов:\n",
    "\n",
    "\n",
    "**SELECT** -- перечисление полей результирующей таблицы\n",
    "\n",
    "**FROM** -- указание источника данных\n",
    "\n",
    "**WHERE** -- фильтрация данных\n",
    "\n",
    "**GROUP BY** -- группировка данных\n",
    "\n",
    "**HAVING** -- фильтрация данных после группировки\n",
    "\n",
    "**ORDER BY** -- сортировка результирующей таблицы\n",
    "\n",
    "**LIMIT** -- ограничение количества выводимых записей\n"
   ]
  },
  {
   "cell_type": "markdown",
   "metadata": {},
   "source": [
    "#1\n",
    "Повысьте цену на 5% только на те товары, цена которых превышает 100 рублей. Цену остальных товаров оставьте без изменений. Также не повышайте цену на икру, которая и так стоит 800 рублей. Выведите id и наименования всех товаров, их старую и новую цену. Цену округлять не нужно.\n",
    "\n",
    "Результат отсортируйте сначала по убыванию новой цены, затем по возрастанию id товара.\n",
    "\n",
    "Поля в результирующей таблице: product_id, name, old_price, new_price\n",
    "\n",
    "\n",
    "SELECT product_id,\n",
    "       name,\n",
    "       price as old_price,\n",
    "       case when price <= 100 or\n",
    "                 name = 'икра' then price\n",
    "            when price > 100 then price*1.05\n",
    "            else 0 end new_price\n",
    "FROM   products\n",
    "ORDER BY new_price desc, product_id\n",
    "\n",
    "\n",
    "#2\n",
    "\n",
    "SELECT product_id,\n",
    "       name,\n",
    "       price,\n",
    "       round(price/120*20, 2) as tax,\n",
    "       round(price - price/120*20, 2) as price_before_tax\n",
    "FROM   products\n",
    "ORDER BY price_before_tax desc, product_id"
   ]
  },
  {
   "cell_type": "markdown",
   "metadata": {},
   "source": [
    "Таким образом, порядок записи известных нам на текущий момент ключевых слов выглядит так:\n",
    "\n",
    "**SELECT**\n",
    "\n",
    "**FROM**\n",
    "\n",
    "**WHERE**\n",
    "\n",
    "**ORDER BY**\n",
    "\n",
    "**LIMIT**\n"
   ]
  }
 ],
 "metadata": {
  "language_info": {
   "name": "python"
  }
 },
 "nbformat": 4,
 "nbformat_minor": 2
}
