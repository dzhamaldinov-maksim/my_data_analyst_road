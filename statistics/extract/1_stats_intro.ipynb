{
 "cells": [
  {
   "cell_type": "code",
   "execution_count": 6,
   "metadata": {},
   "outputs": [
    {
     "name": "stdout",
     "output_type": "stream",
     "text": [
      "Доля успехов: 67%\n"
     ]
    }
   ],
   "source": [
    "from scipy.stats import (\n",
    "    binom\n",
    ")\n",
    "import numpy as numpy\n",
    "from seaborn import distplot\n",
    "from matplotlib import pyplot\n",
    "import seaborn\n",
    "import random\n",
    "\n",
    "import sys\n",
    "sys.path.append('.')\n",
    "\n",
    "\n",
    "# Алгоритм моделирования\n",
    "\n",
    "# 1. Так как вероятность успеха 0.5, можно подбросить монетку для моделирования того, был ли успех. \n",
    "# Если μ=0,5, это означает, что вероятность успеха равна 0,5, т. е. 50%. Следовательно, при достаточно большом количестве испытаний доля успехов должна стремиться к 0,5.\n",
    "# 2. Чтобы подбросить монетку, воспользуемся функцией random.randint, которая возвращает случайное целое число из диапазона, в нашем случае от 0 до 1, где 1 означает успешную доставку.\n",
    "# 3. Подкинем монетку 30 раз, чтобы получить результаты 30 доставок.\n",
    "\n",
    "\n",
    "# фиксируем последовательность рандома для воспроизводимости\n",
    "random.seed(20000)\n",
    "\n",
    "statuses = []\n",
    "for _ in range(30):  # моделируем 30 доставок\n",
    "    status = random.randint(0, 1)  # генерируем случайное число, 0 или 1\n",
    "    statuses.append(status) # добавляем число в список\n",
    "exp_chance = sum(statuses) / 30  # доля успехов\n",
    "\n",
    "print('Доля успехов: {:.0%}'.format(exp_chance))"
   ]
  },
  {
   "cell_type": "code",
   "execution_count": null,
   "metadata": {},
   "outputs": [],
   "source": [
    "from scipy.stats import (\n",
    "    binom\n",
    ")\n",
    "import numpy as numpy\n",
    "from seaborn import distplot\n",
    "from matplotlib import pyplot\n",
    "import seaborn\n",
    "import random\n",
    "\n",
    "import sys\n",
    "sys.path.append('.')\n",
    "\n",
    "\n"
   ]
  }
 ],
 "metadata": {
  "kernelspec": {
   "display_name": "Python 3",
   "language": "python",
   "name": "python3"
  },
  "language_info": {
   "codemirror_mode": {
    "name": "ipython",
    "version": 3
   },
   "file_extension": ".py",
   "mimetype": "text/x-python",
   "name": "python",
   "nbconvert_exporter": "python",
   "pygments_lexer": "ipython3",
   "version": "3.12.2"
  }
 },
 "nbformat": 4,
 "nbformat_minor": 2
}
