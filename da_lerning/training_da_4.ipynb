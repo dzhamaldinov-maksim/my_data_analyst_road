{
 "cells": [
  {
   "cell_type": "code",
   "execution_count": 6,
   "metadata": {},
   "outputs": [
    {
     "data": {
      "text/plain": [
       "three    7.0\n",
       "four     4.0\n",
       "five     NaN\n",
       "one      2.0\n",
       "dtype: float64"
      ]
     },
     "execution_count": 6,
     "metadata": {},
     "output_type": "execute_result"
    }
   ],
   "source": [
    "import pandas as pd\n",
    "import numpy as np\n",
    "\n",
    "ser = pd.Series([2,5,7,4], index=['one','two','three','four'])\n",
    "    # Для того чтобы провести переиндексирование объекта Series библиотека pandas предоставляет функцию reindex(). Она создает новый объект Series со значениями из другого Series, которые теперь переставлены в соответствии с новой последовательностью меток.\n",
    "\n",
    "    # При операции переиндексирования можно поменять порядок индексов, удалить некоторые из них или добавить новые. Если метка новая, pandas добавит NaN на место соответствующего значения.\n",
    "\n",
    "ser.reindex(['three','four','five','one'])\n",
    "    # ответ без изменений\n",
    "    # one      2\n",
    "    # two      5\n",
    "    # three    7\n",
    "    # four     4\n",
    "\n",
    "    # ответ после измменений\n",
    "    # three    7.0\n",
    "    # four     4.0\n",
    "    # five     NaN\n",
    "    # one      2.0\n"
   ]
  },
  {
   "cell_type": "code",
   "execution_count": 14,
   "metadata": {},
   "outputs": [
    {
     "data": {
      "text/plain": [
       "0    1\n",
       "1    5\n",
       "2    5\n",
       "3    5\n",
       "4    6\n",
       "5    6\n",
       "dtype: int64"
      ]
     },
     "execution_count": 14,
     "metadata": {},
     "output_type": "execute_result"
    }
   ],
   "source": [
    "import pandas as pd\n",
    "import numpy as np\n",
    "\n",
    "sr = pd.Series([1,5,6,3],index=[0,3,5,6]) \n",
    "sr.reindex(range(6),method='ffill')\n",
    "\n",
    "    # Ответ\n",
    "    # 0    1\n",
    "    # 1    1\n",
    "    # 2    1\n",
    "    # 3    5\n",
    "    # 4    5\n",
    "    # 5    6\n",
    "    # Таблица после заполнения методом ffill\n",
    "\n",
    "    # Если нужно присваивать значения индексов при интерполяции, необходимо использовать метод bfill\n",
    "\n",
    "sr.reindex(range(6),method='bfill')\n",
    "    # 0    1\n",
    "    # 1    5\n",
    "    # 2    5\n",
    "    # 3    5\n",
    "    # 4    6\n",
    "    # 5    6"
   ]
  },
  {
   "cell_type": "code",
   "execution_count": 25,
   "metadata": {},
   "outputs": [
    {
     "data": {
      "text/html": [
       "<div>\n",
       "<style scoped>\n",
       "    .dataframe tbody tr th:only-of-type {\n",
       "        vertical-align: middle;\n",
       "    }\n",
       "\n",
       "    .dataframe tbody tr th {\n",
       "        vertical-align: top;\n",
       "    }\n",
       "\n",
       "    .dataframe thead th {\n",
       "        text-align: right;\n",
       "    }\n",
       "</style>\n",
       "<table border=\"1\" class=\"dataframe\">\n",
       "  <thead>\n",
       "    <tr style=\"text-align: right;\">\n",
       "      <th>index</th>\n",
       "      <th>color</th>\n",
       "      <th>object</th>\n",
       "      <th>price</th>\n",
       "    </tr>\n",
       "  </thead>\n",
       "  <tbody>\n",
       "    <tr>\n",
       "      <th>0</th>\n",
       "      <td>red</td>\n",
       "      <td>ball</td>\n",
       "      <td>2.45</td>\n",
       "    </tr>\n",
       "    <tr>\n",
       "      <th>1</th>\n",
       "      <td>blue</td>\n",
       "      <td>car</td>\n",
       "      <td>310.10</td>\n",
       "    </tr>\n",
       "    <tr>\n",
       "      <th>2</th>\n",
       "      <td>yellow</td>\n",
       "      <td>ice</td>\n",
       "      <td>0.30</td>\n",
       "    </tr>\n",
       "    <tr>\n",
       "      <th>3</th>\n",
       "      <td>black</td>\n",
       "      <td>tea</td>\n",
       "      <td>4.31</td>\n",
       "    </tr>\n",
       "  </tbody>\n",
       "</table>\n",
       "</div>"
      ],
      "text/plain": [
       "index   color object   price\n",
       "0         red   ball    2.45\n",
       "1        blue    car  310.10\n",
       "2      yellow    ice    0.30\n",
       "3       black    tea    4.31"
      ]
     },
     "execution_count": 25,
     "metadata": {},
     "output_type": "execute_result"
    }
   ],
   "source": [
    "import pandas as pd\n",
    "import numpy as np\n",
    "\n",
    "data = { 'color': ['red', 'blue', 'yellow', 'black', 'green', 'white'],\n",
    "        'object': ['ball', 'car', 'ice', 'tea', 'apple', 'clock'],\n",
    "        'price': [2.45, 310.1, 0.3, 4.31, 5.45, 13.81]}\n",
    "\n",
    "df = pd.DataFrame(data)\n",
    "df.columns.name = 'index'\n",
    "df.reindex(range(4),method='ffill', columns=['color', 'object', 'price'])\n",
    "\n",
    "    # Переиндексирование можно проводить не только на индексах (строках), но также и на колонках или на обоих. Как уже отмечалось, добавлять новые индексы и колонки возможно, но поскольку в оригинальной структуре есть недостающие значения, на их месте будет NaN."
   ]
  },
  {
   "cell_type": "code",
   "execution_count": 27,
   "metadata": {},
   "outputs": [
    {
     "data": {
      "text/plain": [
       "white     0\n",
       "white     1\n",
       "green     3\n",
       "green     4\n",
       "yellow    5\n",
       "dtype: int64"
      ]
     },
     "execution_count": 27,
     "metadata": {},
     "output_type": "execute_result"
    }
   ],
   "source": [
    "import pandas as pd\n",
    "import numpy as np\n",
    "\n",
    "sd = pd.Series(range(6), index=['white','white','blue','green', 'green','yellow'])\n",
    "\n",
    "sd.drop('blue')\n",
    "    # объект Series, чтоб удалить одно значение мы прописываем название этого значения\n",
    "sd.drop(['blue','white'])\n",
    "    # объект Series, чтоб удалить несколько значений мы прописываем соответствующий массив"
   ]
  },
  {
   "cell_type": "code",
   "execution_count": 40,
   "metadata": {},
   "outputs": [
    {
     "data": {
      "text/html": [
       "<div>\n",
       "<style scoped>\n",
       "    .dataframe tbody tr th:only-of-type {\n",
       "        vertical-align: middle;\n",
       "    }\n",
       "\n",
       "    .dataframe tbody tr th {\n",
       "        vertical-align: top;\n",
       "    }\n",
       "\n",
       "    .dataframe thead th {\n",
       "        text-align: right;\n",
       "    }\n",
       "</style>\n",
       "<table border=\"1\" class=\"dataframe\">\n",
       "  <thead>\n",
       "    <tr style=\"text-align: right;\">\n",
       "      <th></th>\n",
       "      <th>pen</th>\n",
       "      <th>pencil</th>\n",
       "    </tr>\n",
       "  </thead>\n",
       "  <tbody>\n",
       "    <tr>\n",
       "      <th>red</th>\n",
       "      <td>1</td>\n",
       "      <td>2</td>\n",
       "    </tr>\n",
       "    <tr>\n",
       "      <th>blue</th>\n",
       "      <td>4</td>\n",
       "      <td>5</td>\n",
       "    </tr>\n",
       "    <tr>\n",
       "      <th>yellow</th>\n",
       "      <td>7</td>\n",
       "      <td>8</td>\n",
       "    </tr>\n",
       "    <tr>\n",
       "      <th>white</th>\n",
       "      <td>10</td>\n",
       "      <td>11</td>\n",
       "    </tr>\n",
       "    <tr>\n",
       "      <th>grey</th>\n",
       "      <td>13</td>\n",
       "      <td>14</td>\n",
       "    </tr>\n",
       "    <tr>\n",
       "      <th>black</th>\n",
       "      <td>16</td>\n",
       "      <td>17</td>\n",
       "    </tr>\n",
       "  </tbody>\n",
       "</table>\n",
       "</div>"
      ],
      "text/plain": [
       "        pen  pencil\n",
       "red       1       2\n",
       "blue      4       5\n",
       "yellow    7       8\n",
       "white    10      11\n",
       "grey     13      14\n",
       "black    16      17"
      ]
     },
     "execution_count": 40,
     "metadata": {},
     "output_type": "execute_result"
    }
   ],
   "source": [
    "import pandas as pd\n",
    "import numpy as np\n",
    "\n",
    "frame = pd.DataFrame(np.arange(18).reshape((6,3)), index=['red', 'blue', 'yellow', 'white', 'grey', 'black'], columns=['ball', 'pen', 'pencil'])\n",
    "\n",
    "frame\n",
    "    # для удаления значений в DataFrame мы передаем массив или само значение\n",
    "frame.drop(['yellow', 'black'])\n",
    "    # аналогично Series передаем либо название значения, либо массив из нескольких значений\n",
    "frame.drop('ball', axis=1)\n",
    "    # для удаления колонок, прописываем ось или то же самое с массивом"
   ]
  },
  {
   "cell_type": "code",
   "execution_count": null,
   "metadata": {},
   "outputs": [],
   "source": [
    "    # Базовая операция сложения. Как видно по примеру, некоторые метки есть в обоих структурах, а остальные — только в одной. Если они есть в обоих случаях, их значения складываются, а если только в одном — то значением будет NaN.\n",
    "    # При использовании Dataframe выравнивание работает по тому же принципу, но проводится и для рядов, и для колонок."
   ]
  }
 ],
 "metadata": {
  "kernelspec": {
   "display_name": "Python 3",
   "language": "python",
   "name": "python3"
  },
  "language_info": {
   "codemirror_mode": {
    "name": "ipython",
    "version": 3
   },
   "file_extension": ".py",
   "mimetype": "text/x-python",
   "name": "python",
   "nbconvert_exporter": "python",
   "pygments_lexer": "ipython3",
   "version": "3.12.2"
  }
 },
 "nbformat": 4,
 "nbformat_minor": 2
}
