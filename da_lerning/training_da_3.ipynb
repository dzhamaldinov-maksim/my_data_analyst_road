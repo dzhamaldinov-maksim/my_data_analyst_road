{
 "cells": [
  {
   "cell_type": "code",
   "execution_count": 1,
   "metadata": {},
   "outputs": [
    {
     "data": {
      "text/html": [
       "<div>\n",
       "<style scoped>\n",
       "    .dataframe tbody tr th:only-of-type {\n",
       "        vertical-align: middle;\n",
       "    }\n",
       "\n",
       "    .dataframe tbody tr th {\n",
       "        vertical-align: top;\n",
       "    }\n",
       "\n",
       "    .dataframe thead th {\n",
       "        text-align: right;\n",
       "    }\n",
       "</style>\n",
       "<table border=\"1\" class=\"dataframe\">\n",
       "  <thead>\n",
       "    <tr style=\"text-align: right;\">\n",
       "      <th></th>\n",
       "      <th>object</th>\n",
       "      <th>price</th>\n",
       "    </tr>\n",
       "  </thead>\n",
       "  <tbody>\n",
       "    <tr>\n",
       "      <th>0</th>\n",
       "      <td>ball</td>\n",
       "      <td>2.45</td>\n",
       "    </tr>\n",
       "    <tr>\n",
       "      <th>1</th>\n",
       "      <td>car</td>\n",
       "      <td>310.1</td>\n",
       "    </tr>\n",
       "    <tr>\n",
       "      <th>2</th>\n",
       "      <td>ice</td>\n",
       "      <td>0.3</td>\n",
       "    </tr>\n",
       "    <tr>\n",
       "      <th>3</th>\n",
       "      <td>tea</td>\n",
       "      <td>4.31</td>\n",
       "    </tr>\n",
       "    <tr>\n",
       "      <th>4</th>\n",
       "      <td>apple</td>\n",
       "      <td>5.45</td>\n",
       "    </tr>\n",
       "    <tr>\n",
       "      <th>5</th>\n",
       "      <td>clock</td>\n",
       "      <td>13.81</td>\n",
       "    </tr>\n",
       "  </tbody>\n",
       "</table>\n",
       "</div>"
      ],
      "text/plain": [
       "  object  price\n",
       "0   ball   2.45\n",
       "1    car  310.1\n",
       "2    ice    0.3\n",
       "3    tea   4.31\n",
       "4  apple   5.45\n",
       "5  clock  13.81"
      ]
     },
     "execution_count": 1,
     "metadata": {},
     "output_type": "execute_result"
    }
   ],
   "source": [
    "import pandas as pd\n",
    "import numpy as np\n",
    "\n",
    "data = { 'color': ['red', 'blue', 'yellow', 'black', 'green', 'white'],\n",
    "        'object': ['ball', 'car', 'ice', 'tea', 'apple', 'clock'],\n",
    "        'price': ['2.45', '310.1', '0.3', '4.31', '5.45', '13.81']}\n",
    "        # здесь мы создаем датасет самостоятельно, как видно из записи выше, по сути\n",
    "        # это большой словарик с данными, разделенными на колонки и строки\n",
    "        # В ДАННОМ СЛУЧАЕ, мы создали именно DataFrame !!! не стоит путать с series.\n",
    "\n",
    "frame = pd.DataFrame(data)\n",
    "frame\n",
    "        # после чего вызываем этот датасет и получаем ответ в виде таблицы\n",
    "\n",
    "frame_2 = pd.DataFrame(data, columns=['object', 'price'])\n",
    "frame_2\n",
    "        # вызываем тот же датасет, но определенные колонки"
   ]
  },
  {
   "cell_type": "code",
   "execution_count": 12,
   "metadata": {},
   "outputs": [
    {
     "data": {
      "text/plain": [
       "'tea'"
      ]
     },
     "execution_count": 12,
     "metadata": {},
     "output_type": "execute_result"
    }
   ],
   "source": [
    "import pandas as pd\n",
    "import numpy as np\n",
    "\n",
    "data = { 'color': ['red', 'blue', 'yellow', 'black', 'green', 'white'],\n",
    "        'object': ['ball', 'car', 'ice', 'tea', 'apple', 'clock'],\n",
    "        'price': ['2.45', '310.1', '0.3', '4.31', '5.45', '13.81']}\n",
    "\n",
    "frame = pd.DataFrame(data)\n",
    "frame.columns\n",
    "        # Index(['color', 'object', 'price'], dtype='object')\n",
    "        # команда columns выдает нам название всех колонок\n",
    "\n",
    "frame.index\n",
    "        # RangeIndex(start=0, stop=6, step=1)\n",
    "        # получаем количество значений в строке\n",
    "\n",
    "frame.values\n",
    "        # получаем все доступные значения\n",
    "        # array([['red', 'ball', '2.45'],\n",
    "        #        ['blue', 'car', '310.1'],\n",
    "        #        ['yellow', 'ice', '0.3'],\n",
    "        #        ['black', 'tea', '4.31'],\n",
    "        #        ['green', 'apple', '5.45'],\n",
    "        #        ['white', 'clock', '13.81']], dtype=object)\n",
    "\n",
    "frame['price']\n",
    "        # 0     2.45\n",
    "        # 1    310.1\n",
    "        # 2      0.3\n",
    "        # 3     4.31\n",
    "        # 4     5.45\n",
    "        # 5    13.81\n",
    "        # Name: price, dtype: object\n",
    "\n",
    "frame.price\n",
    "        # используем название как атрибут, выводит колонку в виде объекта Series\n",
    "\n",
    "frame.loc[0]\n",
    "        # выводим данные всех колонок по индексу в нашем случае индекс 0, то есть будет выводится первое значение по всем колонкам\n",
    "\n",
    "frame.loc[[0,5,3]]\n",
    "        # аналогично прошлому примеру, но выводим уже несколько объектов\n",
    "\n",
    "frame[0:3]\n",
    "        # выводим все объекты с нулевого ДО третьего по индексу, не включительно\n",
    "\n",
    "frame['object'][3]\n",
    "        # если необходимо получить одно значение из объекта, сперва нужно указать название колонки, а потом — индекс или метку строки"
   ]
  },
  {
   "cell_type": "code",
   "execution_count": null,
   "metadata": {},
   "outputs": [],
   "source": [
    "import pandas as pd\n",
    "import numpy as np\n",
    "\n",
    "data = { 'color': ['red', 'blue', 'yellow', 'black', 'green', 'white'],\n",
    "        'object': ['ball', 'car', 'ice', 'tea', 'apple', 'clock'],\n",
    "        'price': ['2.45', '310.1', '0.3', '4.31', '5.45', '13.81']}\n",
    "\n",
    "frame = pd.DataFrame(data)\n",
    "frame.index.name = 'ko'\n",
    "frame.columns.name = 'index'\n",
    "frame"
   ]
  },
  {
   "attachments": {
    "frame.png": {
     "image/png": "[encoded data removed]"
    }
   },
   "cell_type": "markdown",
   "metadata": {},
   "source": [
    "![frame.png](attachment:frame.png)"
   ]
  },
  {
   "cell_type": "code",
   "execution_count": 36,
   "metadata": {},
   "outputs": [
    {
     "data": {
      "text/html": [
       "<div>\n",
       "<style scoped>\n",
       "    .dataframe tbody tr th:only-of-type {\n",
       "        vertical-align: middle;\n",
       "    }\n",
       "\n",
       "    .dataframe tbody tr th {\n",
       "        vertical-align: top;\n",
       "    }\n",
       "\n",
       "    .dataframe thead th {\n",
       "        text-align: right;\n",
       "    }\n",
       "</style>\n",
       "<table border=\"1\" class=\"dataframe\">\n",
       "  <thead>\n",
       "    <tr style=\"text-align: right;\">\n",
       "      <th></th>\n",
       "      <th>color</th>\n",
       "      <th>object</th>\n",
       "      <th>price</th>\n",
       "      <th>new</th>\n",
       "    </tr>\n",
       "  </thead>\n",
       "  <tbody>\n",
       "    <tr>\n",
       "      <th>0</th>\n",
       "      <td>red</td>\n",
       "      <td>ball</td>\n",
       "      <td>2.45</td>\n",
       "      <td>77</td>\n",
       "    </tr>\n",
       "    <tr>\n",
       "      <th>1</th>\n",
       "      <td>blue</td>\n",
       "      <td>car</td>\n",
       "      <td>310.1</td>\n",
       "      <td>77</td>\n",
       "    </tr>\n",
       "    <tr>\n",
       "      <th>2</th>\n",
       "      <td>yellow</td>\n",
       "      <td>ice</td>\n",
       "      <td>0.3</td>\n",
       "      <td>77</td>\n",
       "    </tr>\n",
       "    <tr>\n",
       "      <th>3</th>\n",
       "      <td>black</td>\n",
       "      <td>tea</td>\n",
       "      <td>4.31</td>\n",
       "      <td>77</td>\n",
       "    </tr>\n",
       "    <tr>\n",
       "      <th>4</th>\n",
       "      <td>green</td>\n",
       "      <td>apple</td>\n",
       "      <td>5.45</td>\n",
       "      <td>77</td>\n",
       "    </tr>\n",
       "    <tr>\n",
       "      <th>5</th>\n",
       "      <td>white</td>\n",
       "      <td>clock</td>\n",
       "      <td>13.81</td>\n",
       "      <td>77</td>\n",
       "    </tr>\n",
       "  </tbody>\n",
       "</table>\n",
       "</div>"
      ],
      "text/plain": [
       "    color object  price  new\n",
       "0     red   ball   2.45   77\n",
       "1    blue    car  310.1   77\n",
       "2  yellow    ice    0.3   77\n",
       "3   black    tea   4.31   77\n",
       "4   green  apple   5.45   77\n",
       "5   white  clock  13.81   77"
      ]
     },
     "execution_count": 36,
     "metadata": {},
     "output_type": "execute_result"
    }
   ],
   "source": [
    "import pandas as pd\n",
    "import numpy as np\n",
    "\n",
    "data = { 'color': ['red', 'blue', 'yellow', 'black', 'green', 'white'],\n",
    "        'object': ['ball', 'car', 'ice', 'tea', 'apple', 'clock'],\n",
    "        'price': ['2.45', '310.1', '0.3', '4.31', '5.45', '13.81']}\n",
    "\n",
    "frame = pd.DataFrame(data)\n",
    "frame['new'] = 77\n",
    "frame\n",
    "        # создает новую колонку со значениями 77\n",
    "        # Для обновления значений можно использовать массив, например такой frame['new'] = [3.0, 1.3, 2.2, 0.8, 1.1]\n",
    "\n",
    "        # так же можно заменить определенный элемент frame['price'][2] = 3.3"
   ]
  },
  {
   "cell_type": "code",
   "execution_count": null,
   "metadata": {},
   "outputs": [],
   "source": [
    "import pandas as pd\n",
    "import numpy as np\n",
    "\n",
    "data = { 'color': ['red', 'blue', 'yellow', 'black', 'green', 'white'],\n",
    "        'object': ['ball', 'car', 'ice', 'tea', 'apple', 'clock'],\n",
    "        'price': [2.45, 310.1, 0.3, 4.31, 5.45, 13.81]}\n",
    "\n",
    "\n",
    "frame = pd.DataFrame(data)\n",
    "frame.isin([4.31, 'tea']) # в данном случае массив проверяется на совпадение с условием, если совпадение есть True, если нет False, вопрос ставится так, находится ли этот элемент в таблице\n",
    "frame[frame.isin([4.31, 'tea'])] # а здесь мы наоборот утверждаем, что элемент находится в таблице, тогда мы получаем таблицу содержащую только те значения, которые удовлетворяют условию"
   ]
  },
  {
   "cell_type": "code",
   "execution_count": null,
   "metadata": {},
   "outputs": [],
   "source": [
    "import pandas as pd\n",
    "import numpy as np\n",
    "\n",
    "data = { 'color': ['red', 'blue', 'yellow', 'black', 'green', 'white'],\n",
    "        'object': ['ball', 'car', 'ice', 'tea', 'apple', 'clock'],\n",
    "        'price': [2.45, 310.1, 0.3, 4.31, 5.45, 13.81]}\n",
    "\n",
    "frame = pd.DataFrame(data)\n",
    "frame['new'] = 77\n",
    "frame\n",
    "        # создает новую колонку со значениями 77\n",
    "        # Для обновления значений можно использовать массив, например такой frame['new'] = [3.0, 1.3, 2.2, 0.8, 1.1]\n",
    "\n",
    "\n",
    "del frame['new']\n",
    "frame\n",
    "    # удаляем колонку"
   ]
  },
  {
   "cell_type": "code",
   "execution_count": 56,
   "metadata": {},
   "outputs": [
    {
     "data": {
      "text/html": [
       "<div>\n",
       "<style scoped>\n",
       "    .dataframe tbody tr th:only-of-type {\n",
       "        vertical-align: middle;\n",
       "    }\n",
       "\n",
       "    .dataframe tbody tr th {\n",
       "        vertical-align: top;\n",
       "    }\n",
       "\n",
       "    .dataframe thead th {\n",
       "        text-align: right;\n",
       "    }\n",
       "</style>\n",
       "<table border=\"1\" class=\"dataframe\">\n",
       "  <thead>\n",
       "    <tr style=\"text-align: right;\">\n",
       "      <th></th>\n",
       "      <th>color</th>\n",
       "      <th>object</th>\n",
       "      <th>price</th>\n",
       "    </tr>\n",
       "  </thead>\n",
       "  <tbody>\n",
       "    <tr>\n",
       "      <th>1</th>\n",
       "      <td>blue</td>\n",
       "      <td>car</td>\n",
       "      <td>310.10</td>\n",
       "    </tr>\n",
       "    <tr>\n",
       "      <th>4</th>\n",
       "      <td>green</td>\n",
       "      <td>apple</td>\n",
       "      <td>5.45</td>\n",
       "    </tr>\n",
       "    <tr>\n",
       "      <th>5</th>\n",
       "      <td>white</td>\n",
       "      <td>clock</td>\n",
       "      <td>13.81</td>\n",
       "    </tr>\n",
       "  </tbody>\n",
       "</table>\n",
       "</div>"
      ],
      "text/plain": [
       "   color object   price\n",
       "1   blue    car  310.10\n",
       "4  green  apple    5.45\n",
       "5  white  clock   13.81"
      ]
     },
     "execution_count": 56,
     "metadata": {},
     "output_type": "execute_result"
    }
   ],
   "source": [
    "import pandas as pd\n",
    "import numpy as np\n",
    "\n",
    "data = { 'color': ['red', 'blue', 'yellow', 'black', 'green', 'white'],\n",
    "        'object': ['ball', 'car', 'ice', 'tea', 'apple', 'clock'],\n",
    "        'price': [2.45, 310.1, 0.3, 4.31, 5.45, 13.81]}\n",
    "\n",
    "frame = pd.DataFrame(data)\n",
    "frame\n",
    "\n",
    "frame[frame['price'] > 5]\n",
    "        # данным способом мы выбираем все строки в которых цена больше 5"
   ]
  },
  {
   "cell_type": "code",
   "execution_count": 58,
   "metadata": {},
   "outputs": [
    {
     "data": {
      "text/html": [
       "<div>\n",
       "<style scoped>\n",
       "    .dataframe tbody tr th:only-of-type {\n",
       "        vertical-align: middle;\n",
       "    }\n",
       "\n",
       "    .dataframe tbody tr th {\n",
       "        vertical-align: top;\n",
       "    }\n",
       "\n",
       "    .dataframe thead th {\n",
       "        text-align: right;\n",
       "    }\n",
       "</style>\n",
       "<table border=\"1\" class=\"dataframe\">\n",
       "  <thead>\n",
       "    <tr style=\"text-align: right;\">\n",
       "      <th></th>\n",
       "      <th>2012</th>\n",
       "      <th>2013</th>\n",
       "      <th>2011</th>\n",
       "    </tr>\n",
       "  </thead>\n",
       "  <tbody>\n",
       "    <tr>\n",
       "      <th>red</th>\n",
       "      <td>22.0</td>\n",
       "      <td>33.0</td>\n",
       "      <td>NaN</td>\n",
       "    </tr>\n",
       "    <tr>\n",
       "      <th>white</th>\n",
       "      <td>22.0</td>\n",
       "      <td>16.0</td>\n",
       "      <td>13.0</td>\n",
       "    </tr>\n",
       "    <tr>\n",
       "      <th>blue</th>\n",
       "      <td>27.0</td>\n",
       "      <td>18.0</td>\n",
       "      <td>17.0</td>\n",
       "    </tr>\n",
       "  </tbody>\n",
       "</table>\n",
       "</div>"
      ],
      "text/plain": [
       "       2012  2013  2011\n",
       "red    22.0  33.0   NaN\n",
       "white  22.0  16.0  13.0\n",
       "blue   27.0  18.0  17.0"
      ]
     },
     "execution_count": 58,
     "metadata": {},
     "output_type": "execute_result"
    }
   ],
   "source": [
    "import pandas as pd\n",
    "import numpy as np\n",
    "\n",
    "\n",
    "nestdict = {'red': { 2012: 22, 2013: 33},\n",
    "            'white': { 2011: 13, 2012: 22, 2013: 16},\n",
    "            'blue': { 2011: 17, 2012: 27, 2013: 18}}\n",
    "\n",
    "df = pd.DataFrame(nestdict)\n",
    "df.T \n",
    "    # транспонируем таблицу"
   ]
  },
  {
   "cell_type": "code",
   "execution_count": 74,
   "metadata": {},
   "outputs": [
    {
     "name": "stdout",
     "output_type": "stream",
     "text": [
      "<bound method DataFrame.idxmin of     0\n",
      "0  11\n",
      "1  55\n",
      "2  12\n",
      "3  41\n",
      "4  97\n",
      "5   4>\n"
     ]
    }
   ],
   "source": [
    "import pandas as pd\n",
    "import numpy as np\n",
    "\n",
    "# sr = pd.Series(['red', 'blue', 'yellow', 'black', 'green', 'white'])\n",
    "sr = pd.DataFrame([11, 55, 12, 41, 97, 4])\n",
    "\n",
    "# print(sr.idxmax)\n",
    "print(sr.idxmin)\n"
   ]
  },
  {
   "cell_type": "code",
   "execution_count": null,
   "metadata": {},
   "outputs": [],
   "source": [
    "import pandas as pd\n",
    "import numpy as np\n",
    "\n",
    "\n",
    "df = pd.DataFrame([12,-4,7,9,11,3,1,-12,7,34,55,73,5,-2])\n",
    "\n",
    "    # В случае с маленькими структурами легко определять любые повторяющиеся индексы, но если структура большая, то растет и сложность этой операции. Для этого в pandas у объектов Index есть атрибут is_unique. Он сообщает, есть ли индексы с повторяющимися метками в структуре (Series или Dataframe)\n",
    "\n",
    "df.index.is_unique\n",
    "    # True\n",
    "    # В данном случае все индексы уникальны и не повторяются"
   ]
  },
  {
   "cell_type": "code",
   "execution_count": 81,
   "metadata": {},
   "outputs": [
    {
     "data": {
      "text/plain": [
       "False"
      ]
     },
     "execution_count": 81,
     "metadata": {},
     "output_type": "execute_result"
    }
   ],
   "source": [
    "import pandas as pd\n",
    "import numpy as np\n",
    "\n",
    "sd = pd.Series(range(6), index=['white','white','blue','green', 'green','yellow'])\n",
    "\n",
    "    # в этом примере мы задаем индексы в виде названий цветов, которые совпадают, то есть не уникальны, а метки в нашем случае это ранжировка до 6 не включительно\n",
    "\n",
    "sd.index.is_unique\n",
    "    # False\n",
    "    # Здесь же индексы уже не уникальны"
   ]
  },
  {
   "cell_type": "code",
   "execution_count": null,
   "metadata": {},
   "outputs": [],
   "source": [
    "# Гибкие арифметические методы\n",
    "\n",
    "add()\n",
    "sub()\n",
    "div()\n",
    "mul()\n",
    "\n",
    "    # форма записи такая\n",
    "frame1.add(frame2)\n",
    "\n",
    "    # то есть мы указываем объект по отношению к которому выполняем действие и тот с которым будем выполнять!\n",
    "    # Также стоит обратить внимание, что если названия индексов и колонок сильно отличаются, то результатом станет новый объект Dataframe, состоящий только из значений NaN.\n",
    "\n"
   ]
  },
  {
   "attachments": {
    "np_arrange.png": {
     "image/png": "[encoded data removed]"
    }
   },
   "cell_type": "markdown",
   "metadata": {},
   "source": [
    "![np_arrange.png](attachment:np_arrange.png)"
   ]
  }
 ],
 "metadata": {
  "kernelspec": {
   "display_name": "Python 3",
   "language": "python",
   "name": "python3"
  },
  "language_info": {
   "codemirror_mode": {
    "name": "ipython",
    "version": 3
   },
   "file_extension": ".py",
   "mimetype": "text/x-python",
   "name": "python",
   "nbconvert_exporter": "python",
   "pygments_lexer": "ipython3",
   "version": "3.12.2"
  }
 },
 "nbformat": 4,
 "nbformat_minor": 2
}
