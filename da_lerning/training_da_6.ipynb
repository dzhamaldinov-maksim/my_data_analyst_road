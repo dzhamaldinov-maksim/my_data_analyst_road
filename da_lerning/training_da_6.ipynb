{
 "cells": [
  {
   "cell_type": "code",
   "execution_count": 10,
   "metadata": {},
   "outputs": [
    {
     "name": "stderr",
     "output_type": "stream",
     "text": [
      "C:\\Users\\Максим Феликсович\\AppData\\Local\\Temp\\ipykernel_11052\\4057911865.py:11: PerformanceWarning: indexing past lexsort depth may impact performance.\n",
      "  mser[:,'up']\n"
     ]
    },
    {
     "data": {
      "text/plain": [
       "white    0.743275\n",
       "blue     0.192525\n",
       "blue     0.293717\n",
       "dtype: float64"
      ]
     },
     "execution_count": 10,
     "metadata": {},
     "output_type": "execute_result"
    }
   ],
   "source": [
    "import pandas as pd\n",
    "import numpy as np\n",
    "\n",
    "mser = pd.Series(np.random.rand(10), index=[['white','white','white','blue','blue','blue','blue','red','red','red'], ['up','down','right','down','up','down','up','down','left','left']])\n",
    "mser\n",
    "    # создали значения индекса и присвоили им наименования, создали 10 рандомных чисел для каждого из значений\n",
    "\n",
    "mser['white']\n",
    "    # выбираем значения для определенного значения индекса\n",
    "\n",
    "mser[:,'up']\n",
    "    # выбираем все значения up, или указать оба значения если необходимо конкретное значение\n",
    "\n",
    "    # данные могут быть перестроены и использованы в объекте Dataframe с помощью функции unstack(). Она конвертирует Series с иерархическими индексами в простой Dataframe, где второй набор индексов превращается в новые колонки.\n",
    "    # Если необходимо выполнить обратную операцию — превратить Dataframe в Series, — используется функция stack()."
   ]
  }
 ],
 "metadata": {
  "kernelspec": {
   "display_name": "Python 3",
   "language": "python",
   "name": "python3"
  },
  "language_info": {
   "codemirror_mode": {
    "name": "ipython",
    "version": 3
   },
   "file_extension": ".py",
   "mimetype": "text/x-python",
   "name": "python",
   "nbconvert_exporter": "python",
   "pygments_lexer": "ipython3",
   "version": "3.12.2"
  }
 },
 "nbformat": 4,
 "nbformat_minor": 2
}
