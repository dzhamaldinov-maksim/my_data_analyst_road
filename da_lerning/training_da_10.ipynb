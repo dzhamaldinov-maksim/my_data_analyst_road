{
 "cells": [
  {
   "cell_type": "code",
   "execution_count": 8,
   "metadata": {},
   "outputs": [
    {
     "name": "stdout",
     "output_type": "stream",
     "text": [
      "b'\\x80\\x04\\x95/\\x00\\x00\\x00\\x00\\x00\\x00\\x00}\\x94(\\x8c\\x05color\\x94]\\x94(\\x8c\\x05white\\x94\\x8c\\x03red\\x94e\\x8c\\x05value\\x94]\\x94(K\\x05K\\x07eu.'\n"
     ]
    },
    {
     "data": {
      "text/plain": [
       "{'color': ['white', 'red'], 'value': [5, 7]}"
      ]
     },
     "execution_count": 8,
     "metadata": {},
     "output_type": "execute_result"
    }
   ],
   "source": [
    "import pickle\n",
    "import numpy as np\n",
    "import pandas as pd\n",
    "    # Модуль pickle предоставляет мощный алгоритм сериализации и десериализации структур данных Python. Pickling — это процесс, при котором иерархия объекта конвертируется в поток байтов.\n",
    "\n",
    "    # Это позволяет переносить и хранить объект, так что получатель может восстановить его, сохранив все оригинальные черты.\n",
    "\n",
    "data = { 'color': ['white','red'], 'value': [5, 7]}\n",
    "pickled_data = pickle.dumps(data)\n",
    "    # выполняем сериализацию с помощью dumps\n",
    "print(pickled_data)\n",
    "\n",
    "frame = pickle.loads(pickled_data)\n",
    "    # здесь мы выполняем десериализацию с помощью loads\n",
    "frame"
   ]
  },
  {
   "cell_type": "code",
   "execution_count": 11,
   "metadata": {},
   "outputs": [
    {
     "data": {
      "text/html": [
       "<div>\n",
       "<style scoped>\n",
       "    .dataframe tbody tr th:only-of-type {\n",
       "        vertical-align: middle;\n",
       "    }\n",
       "\n",
       "    .dataframe tbody tr th {\n",
       "        vertical-align: top;\n",
       "    }\n",
       "\n",
       "    .dataframe thead th {\n",
       "        text-align: right;\n",
       "    }\n",
       "</style>\n",
       "<table border=\"1\" class=\"dataframe\">\n",
       "  <thead>\n",
       "    <tr style=\"text-align: right;\">\n",
       "      <th></th>\n",
       "      <th>0</th>\n",
       "      <th>1</th>\n",
       "      <th>2</th>\n",
       "      <th>3</th>\n",
       "    </tr>\n",
       "  </thead>\n",
       "  <tbody>\n",
       "    <tr>\n",
       "      <th>up</th>\n",
       "      <td>0</td>\n",
       "      <td>1</td>\n",
       "      <td>2</td>\n",
       "      <td>3</td>\n",
       "    </tr>\n",
       "    <tr>\n",
       "      <th>down</th>\n",
       "      <td>4</td>\n",
       "      <td>5</td>\n",
       "      <td>6</td>\n",
       "      <td>7</td>\n",
       "    </tr>\n",
       "    <tr>\n",
       "      <th>left</th>\n",
       "      <td>8</td>\n",
       "      <td>9</td>\n",
       "      <td>10</td>\n",
       "      <td>11</td>\n",
       "    </tr>\n",
       "    <tr>\n",
       "      <th>right</th>\n",
       "      <td>12</td>\n",
       "      <td>13</td>\n",
       "      <td>14</td>\n",
       "      <td>15</td>\n",
       "    </tr>\n",
       "  </tbody>\n",
       "</table>\n",
       "</div>"
      ],
      "text/plain": [
       "        0   1   2   3\n",
       "up      0   1   2   3\n",
       "down    4   5   6   7\n",
       "left    8   9  10  11\n",
       "right  12  13  14  15"
      ]
     },
     "execution_count": 11,
     "metadata": {},
     "output_type": "execute_result"
    }
   ],
   "source": [
    "import pickle\n",
    "import numpy as np\n",
    "import pandas as pd\n",
    "\n",
    "frame = pd.DataFrame(np.arange(16).reshape(4,4), index=['up','down','left','right'])\n",
    "frame.to_pickle('C:\\\\Users\\\\Максим Феликсович\\\\Documents\\\\GitHub\\\\my_data_analyst_road\\\\test_dataset\\\\my_dataset\\\\pickle_frame.pkl')\n",
    "\n",
    "pd.read_pickle('C:\\\\Users\\\\Максим Феликсович\\\\Documents\\\\GitHub\\\\my_data_analyst_road\\\\test_dataset\\\\my_dataset\\\\pickle_frame.pkl')"
   ]
  }
 ],
 "metadata": {
  "kernelspec": {
   "display_name": "Python 3",
   "language": "python",
   "name": "python3"
  },
  "language_info": {
   "codemirror_mode": {
    "name": "ipython",
    "version": 3
   },
   "file_extension": ".py",
   "mimetype": "text/x-python",
   "name": "python",
   "nbconvert_exporter": "python",
   "pygments_lexer": "ipython3",
   "version": "3.12.2"
  }
 },
 "nbformat": 4,
 "nbformat_minor": 2
}
