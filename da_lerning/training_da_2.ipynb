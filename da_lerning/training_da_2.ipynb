{
 "cells": [
  {
   "cell_type": "code",
   "execution_count": 4,
   "metadata": {},
   "outputs": [
    {
     "data": {
      "text/plain": [
       "Index(['a', 'b', 'c', 'd'], dtype='object')"
      ]
     },
     "execution_count": 4,
     "metadata": {},
     "output_type": "execute_result"
    }
   ],
   "source": [
    "import pandas as pd\n",
    "import numpy as np\n",
    "\n",
    "sr = pd.Series([12,-4,7,9])\n",
    "sr\n",
    "\n",
    "    # создаем объект типа Series\n",
    "    # Если не определить индекс при объявлении объекта, метки будут соответствовать индексам (положению в массиве) элементов объекта Series\n",
    "\n",
    "sr = pd.Series([12,-4,7,9], index=['a','b','c','d'])\n",
    "sr\n",
    "\n",
    "    # вывод a    12\n",
    "    #       b    -4\n",
    "    #       c     7\n",
    "    #       d     9\n",
    "    #       dtype: int64\n",
    "\n",
    "sr.values\n",
    "    # array([12, -4,  7,  9])\n",
    "    # метод values показывает содержимое массива\n",
    "\n",
    "sr.index\n",
    "    # Index(['a', 'b', 'c', 'd'], dtype='object')\n",
    "    # указывает тип данных которыми обозначены индексы\n",
    "\n",
    "    # поэтому, выбрать соответствующий элемент можно с помощью\n",
    "    # индексов или меток\n",
    "    # sr[2] вызов элемента с помощью индекса\n",
    "    # sr['a'] вызов элемента с помощью метки\n",
    "    # sr[0:5] вызов элементов с помощью срезов по индексам\n",
    "    # sr[['a', 'd']] вызов элементов с помощью срезов по меткам\n",
    "    "
   ]
  },
  {
   "cell_type": "code",
   "execution_count": 7,
   "metadata": {},
   "outputs": [
    {
     "data": {
      "text/plain": [
       "0     12\n",
       "3      9\n",
       "4     11\n",
       "9     34\n",
       "10    55\n",
       "11    73\n",
       "dtype: int64"
      ]
     },
     "execution_count": 7,
     "metadata": {},
     "output_type": "execute_result"
    }
   ],
   "source": [
    "import pandas as pd\n",
    "import numpy as np\n",
    "\n",
    "mass = np.array([12,-4,7,9,11,3,1,-12,7,34,55,73,5,-2])\n",
    "    # есть массив\n",
    "\n",
    "sr = pd.Series(mass)\n",
    "sr\n",
    "\n",
    "    # из массива мы можем создать объект Series\n",
    "    # Важно запомнить, что значения в массиве NumPy или оригинальном объекте Series не копируются, а передаются по ссылке. Это значит, что элементы объекта вставляются динамически в новый Series. Если меняется оригинальный объект, то меняются и его значения в новом.\n",
    "    # 0     12\n",
    "    # 1     -4\n",
    "    # 2      7\n",
    "    # 3      9\n",
    "    # 4     11\n",
    "    # 5      3\n",
    "    # 6      1\n",
    "    # 7    -12\n",
    "    # 8      7\n",
    "    # 9     34\n",
    "    # 10    55\n",
    "    # 11    73\n",
    "    # 12     5\n",
    "    # 13    -2\n",
    "    # dtype: int64\n",
    "\n",
    "sr[sr > 8]\n",
    "\n",
    "    # сортируем массив Series по значениям больше или меньше\n",
    "    # выбираем все значения больше 8\n",
    "    # 0     12\n",
    "    # 3      9\n",
    "    # 4     11\n",
    "    # 9     34\n",
    "    # 10    55\n",
    "    # 11    73\n",
    "    # dtype: int64\n",
    "\n",
    "    # можно так же выполнять математические действия с массивом\n",
    "    # Но в случае с математическими функциями NumPy необходимо указать функцию через np, а Series передать в качестве аргумента."
   ]
  },
  {
   "cell_type": "code",
   "execution_count": null,
   "metadata": {},
   "outputs": [],
   "source": [
    "import pandas as pd\n",
    "import numpy as np\n",
    "\n",
    "mass = pd.Series([1,-4,7,9,1,3,1,-12,7,3,5,3,5,-2,9,-4])\n",
    "mass.unique()\n",
    "    # только у массивов Series есть метод unique\n",
    "    # array([  1,  -4,   7,   9,   3, -12,   5,  -2])\n",
    "\n",
    "mass.value_counts()\n",
    "    # с помощью метода value_counts() мы можем увидеть все\n",
    "    # уникальные значения и сколько раз они повторяются\n",
    "\n",
    "mass.isin([1,3])\n",
    "    # Наконец, isin() показывает, есть ли элементы на основе списка значений. Она возвращает булевые значения, которые очень полезны при фильтрации данных в Series или в колонке Dataframe.\n",
    "    # 0      True\n",
    "    # 1     False\n",
    "    # 2     False\n",
    "    # 3     False\n",
    "    # 4      True\n",
    "    # 5      True\n",
    "    # 6      True\n",
    "    # 7     False\n",
    "    # 8     False\n",
    "    # 9      True\n",
    "    # 10    False\n",
    "    # 11     True\n",
    "    # 12    False\n",
    "    # 13    False\n",
    "    # 14    False\n",
    "    # 15    False\n",
    "    # dtype: bool\n",
    "\n",
    "mass[mass.isin([1,3])]\n",
    "    # 0     1\n",
    "    # 4     1\n",
    "    # 5     3\n",
    "    # 6     1\n",
    "    # 9     3\n",
    "    # 11    3\n",
    "    # dtype: int64"
   ]
  },
  {
   "cell_type": "code",
   "execution_count": null,
   "metadata": {},
   "outputs": [],
   "source": [
    "import pandas as pd\n",
    "import numpy as np\n",
    "\n",
    "mass = pd.Series([1,-4,7,9,1,3,1,-12,np.nan,3,5,3,5,-2,9,-4])\n",
    "    # явно обозначили поле nan в массиве, для нахождения недостоющего элемента\n",
    "mass"
   ]
  },
  {
   "cell_type": "code",
   "execution_count": null,
   "metadata": {},
   "outputs": [],
   "source": [
    "import pandas as pd\n",
    "import numpy as np\n",
    "\n",
    "mass = pd.Series([1,-4,7,np.nan,1,np.nan,1,-12,np.nan,3,5,3,5,np.nan,9,-4])\n",
    "    # явно обозначили поле nan в массиве, для нахождения недостоющего элемента\n",
    "mass\n",
    "\n",
    "    # Функции isnull() и notnull() очень полезны для определения индексов без значения.\n",
    "\n",
    "mass.isnull()\n",
    "    # мы определили пустые значения (это ноль?)\n",
    "\n",
    "mass.notnull()\n",
    "    # мы определили пустые значения (это не ноль?)\n",
    "\n",
    "mass[mass.isnull()]\n",
    "    # фильтруем по нулевому значению, тоесть ноль это наш ответ\n",
    "\n",
    "mass[mass.notnull()]\n",
    "    # фильтруем по не нулевым значениям\n",
    "\n",
    "mass.dropna()\n",
    "    # убирает все значения Nan\n",
    "    # для удаления только лишь значений NaN в объектах типа DataFrame используют параметр how --> dropna(how='all')\n",
    "\n",
    "mass.fillna(0)\n",
    "    # заполняет все значения NaN нулями"
   ]
  },
  {
   "cell_type": "code",
   "execution_count": 32,
   "metadata": {},
   "outputs": [
    {
     "data": {
      "text/plain": [
       "black      700.0\n",
       "green        NaN\n",
       "orange       NaN\n",
       "red       1100.0\n",
       "white        NaN\n",
       "yellow       NaN\n",
       "dtype: float64"
      ]
     },
     "execution_count": 32,
     "metadata": {},
     "output_type": "execute_result"
    }
   ],
   "source": [
    "import pandas as pd\n",
    "import numpy as np\n",
    "\n",
    "mass = {'orange': 100, 'green': 200, 'white': 1000, 'black': 0, 'red': 700}\n",
    "mass_dict = pd.Series(mass)\n",
    "mass_dict\n",
    "    # Series можно воспринимать как объект dict (словарь).\n",
    "    # при несоответствии значения или его отсутствии, будет выведено NaN\n",
    "\n",
    "colors = ['red','yellow','orange','blue','green']\n",
    "mass_dict = pd.Series(mass, index=colors)\n",
    "mass_dict\n",
    "    # сравниваем элементы массива индексов colors и наши значения\n",
    "    # red       700.0\n",
    "    # yellow      NaN\n",
    "    # orange    100.0\n",
    "    # blue        NaN\n",
    "    # green     200.0\n",
    "\n",
    "mass_2 = {'red':400,'yellow':1000,'black':700}\n",
    "mass_dict_2 = pd.Series(mass_2)\n",
    "mass_dict_2 + mass_dict\n",
    "    # складываем два объекта Series, но складываются только когда ключи совпадают"
   ]
  }
 ],
 "metadata": {
  "kernelspec": {
   "display_name": "Python 3",
   "language": "python",
   "name": "python3"
  },
  "language_info": {
   "codemirror_mode": {
    "name": "ipython",
    "version": 3
   },
   "file_extension": ".py",
   "mimetype": "text/x-python",
   "name": "python",
   "nbconvert_exporter": "python",
   "pygments_lexer": "ipython3",
   "version": "3.12.2"
  }
 },
 "nbformat": 4,
 "nbformat_minor": 2
}
