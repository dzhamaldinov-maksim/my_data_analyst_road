{
 "cells": [
  {
   "cell_type": "markdown",
   "metadata": {},
   "source": [
    "**Сезонный анализ:**\\\n",
    "Определить сезонные колебания в количестве пассажиров в течение года.\\\n",
    "Это необходимо для планирования ресурсов и ценообразования."
   ]
  },
  {
   "cell_type": "code",
   "execution_count": 21,
   "metadata": {},
   "outputs": [
    {
     "data": {
      "text/plain": [
       "Year\n",
       "1949    1520\n",
       "1950    1676\n",
       "1951    2042\n",
       "1952    2364\n",
       "1953    2700\n",
       "1954    2867\n",
       "1955    3408\n",
       "1956    3939\n",
       "1957    4421\n",
       "1958    4572\n",
       "1959    5140\n",
       "1960    5714\n",
       "Name: Passengers, dtype: int64"
      ]
     },
     "execution_count": 21,
     "metadata": {},
     "output_type": "execute_result"
    }
   ],
   "source": [
    "import pandas as pd\n",
    "import matplotlib.pyplot as plt\n",
    "import seaborn as sns\n",
    "from statsmodels.tsa.stattools import acf\n",
    "\n",
    "url='https://drive.google.com/file/d/1MY5-bEFb9i8PpZEUU_f8cFFiQKsvLwFO/view?usp=drive_link'\n",
    "url='https://drive.google.com/uc?id=' + url.split('/')[-2]\n",
    "df = pd.read_csv(url)\n",
    "# считываем датасет\n",
    "\n",
    "df.head(10)\n",
    "# смотрим что из себя представляет данный датасет, либо с \n",
    "# помощью команды .head(), либо с помощью команды .columns\n",
    "\n",
    "df[df['#Passengers'].isnull()]\n",
    "# ищем пропуски\n",
    "\n",
    "duplicates = df.duplicated()\n",
    "duplicate_rows = df[duplicates]\n",
    "duplicate_rows\n",
    "# ищем дубликаты\n",
    "\n",
    "# Извлечение года и месяца\n",
    "# df['year'] = df['Month'].dt.year\n",
    "\n",
    "\n",
    "# Преобразование столбца 'Month' в формат даты (при необходимости)\n",
    "# Если у вас дата в формате YYYY-MM:\n",
    "# df['Month'] = pd.to_datetime(df['Month'], format='%Y-%m')\n",
    "\n",
    "# Установка столбца 'Month' в качестве индекса\n",
    "# df = df.set_index(['Month'])\n",
    "\n",
    "# Переименование столбца для удобства\n",
    "df = df.rename(columns={'#Passengers': 'Passengers'})\n",
    "\n",
    "# Convert 'Month' column to datetime objects\n",
    "df['Month'] = pd.to_datetime(df['Month'], format='%Y-%m')\n",
    "\n",
    "# Extract the year\n",
    "df['Year'] = df['Month'].dt.year\n",
    "\n",
    "# Group by year and calculate the sum of passengers for each year\n",
    "grouped = df.groupby('Year')['Passengers'].sum()\n",
    "grouped"
   ]
  }
 ],
 "metadata": {
  "kernelspec": {
   "display_name": "Python 3",
   "language": "python",
   "name": "python3"
  },
  "language_info": {
   "codemirror_mode": {
    "name": "ipython",
    "version": 3
   },
   "file_extension": ".py",
   "mimetype": "text/x-python",
   "name": "python",
   "nbconvert_exporter": "python",
   "pygments_lexer": "ipython3",
   "version": "3.12.2"
  }
 },
 "nbformat": 4,
 "nbformat_minor": 2
}
