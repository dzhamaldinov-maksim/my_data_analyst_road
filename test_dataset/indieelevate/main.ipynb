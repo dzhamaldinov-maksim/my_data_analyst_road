{
 "cells": [
  {
   "cell_type": "code",
   "execution_count": null,
   "metadata": {},
   "outputs": [],
   "source": [
    "import pandas as pd\n",
    "import numpy as np\n",
    "import matplotlib\n",
    "import matplotlib.pyplot as plt\n",
    "import seaborn as sns\n",
    "\n",
    "df = pd.read_csv('C:\\\\Users\\\\Максим Феликсович\\\\Documents\\\\GitHub\\\\my_data_analyst_road\\\\test_dataset\\\\indieelevate\\\\data.csv')\n",
    "\n",
    "# df.info() # смотрим информацию о dataset\n",
    "# df.columns # смотрим какие колонки есть в dataset\n",
    "\n",
    "# drop_row = df.dropna()\n",
    "# df.isnull().sum().sum()\n",
    "# ищем пропущенные значения\n",
    "\n",
    "missing_rows = df[df.isnull().any(axis=1)].index.tolist()\n",
    "# выбираем наш dataframe применяем к нему функцию isnull(), которая показывает наличие строк с типом данных NaN & null, затем к isnull() мы применили функцию any() для формирования объекта Series с булиевыми значениями, из которого в последствии формируем список всех строк со значеними NaN & null\n",
    "# print(missing_rows)\n",
    "\n",
    "# df.iloc[missing_rows]\n",
    "# выводим все значения\n",
    "\n",
    "data_cleared_of_omission = df.dropna()\n",
    "# избавляемся от значений NaN & null\n",
    "\n",
    "rename_answer = data_cleared_of_omission.rename(columns={'Ответ на вопрос': 'answer', 'Age': 'age'})\n",
    "# заменяем название колонок на более удобные\n",
    "\n",
    "# rename_answer['Age'].describe()\n",
    "# смотрим на распределение возрастов, выясняем максимальный и минимальный возраст\n",
    "\n",
    "right_age = rename_answer.loc[(rename_answer['age'] < 66) & (rename_answer['age'] >= 18)]\n",
    "# right_age.describe()\n",
    "# выполняем сортировку данных по возрасту, не считая тех людей что младше возраста совершеннолетия и тех, чей возраст выходит за рамки нормы, например такое значение как 186\n",
    "\n",
    "what_answer_we_have = right_age['answer'].unique()\n",
    "# смотрим какие ответы у нас есть\n",
    "# what_answer_we_have\n",
    "\n",
    "clean_answer = right_age.replace('неверное решение', 'Нет')\n",
    "clean_answer = clean_answer.replace(\"да, но очень плохо описано\", 'Да')\n",
    "# # заменяем значения в ответах \n",
    "\n",
    "group_by_answer = clean_answer.groupby('answer')\n",
    "group_by_answer.size()\n"
   ]
  }
 ],
 "metadata": {
  "kernelspec": {
   "display_name": "Python 3",
   "language": "python",
   "name": "python3"
  },
  "language_info": {
   "codemirror_mode": {
    "name": "ipython",
    "version": 3
   },
   "file_extension": ".py",
   "mimetype": "text/x-python",
   "name": "python",
   "nbconvert_exporter": "python",
   "pygments_lexer": "ipython3",
   "version": "3.12.2"
  }
 },
 "nbformat": 4,
 "nbformat_minor": 2
}
