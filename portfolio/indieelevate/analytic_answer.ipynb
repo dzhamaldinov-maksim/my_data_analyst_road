{
 "cells": [
  {
   "cell_type": "code",
   "execution_count": 1,
   "metadata": {},
   "outputs": [
    {
     "name": "stdout",
     "output_type": "stream",
     "text": [
      "Пропущенные значения возраста: 13.54%\n",
      "Ответ на вопрос   да  да, но очень плохо описано  неверное решение  нет\n",
      "Age                                                                    \n",
      "False            121                           5                 4  151\n",
      "True              14                           1                 0   29\n"
     ]
    }
   ],
   "source": [
    "import pandas as pd\n",
    "\n",
    "url='https://drive.google.com/file/d/1ZcwUvMMtraP0FWTPa_wkxJtNnQrXCpvo/view?usp=drive_link'\n",
    "url='https://drive.google.com/uc?id=' + url.split('/')[-2]\n",
    "df = pd.read_csv(url)\n",
    "# считываем файл csv\n",
    "\n",
    "df.columns # смотрим какие колонки у нас в dataset\n",
    "df.isnull().sum() # ищем знаачения null & NaN\n",
    "\n",
    "duplicates = df.duplicated() # ищем дубликаты, путем проверки каждой строки и создания объекта типа Series содержащего булиевые значения\n",
    "duplicate_rows = df[duplicates] # создаем объект типа DataFrame и помещаем туда все дубликаты \n",
    "duplicate_rows\n",
    "\n",
    "df[df['Age'].isnull()] # выводим все строки с NaN & null\n",
    "missing_percentage = df['Age'].isnull().mean() * 100 # высчитвыаем процент пропущенных значений\n",
    "print(f\"Пропущенные значения возраста: {missing_percentage:.2f}%\") # форматируем строку, вставляя значение missing_percentage с двумя знаками после запятой\n",
    "\n",
    "missing_age = df['Age'].isnull()\n",
    "contingency_table = pd.crosstab(missing_age, df['Ответ на вопрос']) # создаем таблицу сопряженности, которая позволяет увидеть взаимосвязь между возрастом и ответами на вопрос\n",
    "print(contingency_table)"
   ]
  },
  {
   "cell_type": "code",
   "execution_count": 17,
   "metadata": {},
   "outputs": [
    {
     "name": "stdout",
     "output_type": "stream",
     "text": [
      "Chi2 Statistic: 2.8517866985393683\n",
      "P-value: 0.4150457026643172\n",
      "Связи нет, и пропуски возраста можно считать случайными относительно типа ответа\n"
     ]
    }
   ],
   "source": [
    "from scipy.stats import chi2_contingency\n",
    "\n",
    "data = {\n",
    "    'да': [121, 14],\n",
    "    'да, но очень плохо описано': [5, 1],\n",
    "    'неверное решение': [4, 0],\n",
    "    'нет': [151, 29]\n",
    "}\n",
    "contingency_table = pd.DataFrame(data, index=['Age_present', 'Age_missing'])\n",
    "\n",
    "# Выполнение теста хи-квадрат, который используется для определения того, существуют ли значительные различия между категориальными переменными или проверки гипотезы о независимости между двумя категориальными переменными\n",
    "chi2, p, dof, ex = chi2_contingency(contingency_table)\n",
    "# * chi2: Статистика хи-квадрат, которая является мерой различия между наблюдаемыми и ожидаемыми данными.\n",
    "# * p: Значение p, которое представляет вероятность того, что наблюдаемые различия произошли случайно.\n",
    "# * dof: Количество степеней свободы, которое определяется количеством категорий в каждой переменной минус 1.\n",
    "# * ex: Таблица ожидаемых значений.\n",
    "\n",
    "print(f\"Chi2 Statistic: {chi2}\")\n",
    "print(f\"P-value: {p}\")\n",
    "\n",
    "if p < 0.05:\n",
    "  print('Есть статистически значимая связь между отсутствием возраста и типом ответа')\n",
    "else:\n",
    "  print('Связи нет, и пропуски возраста можно считать случайными относительно типа ответа')"
   ]
  },
  {
   "cell_type": "code",
   "execution_count": 32,
   "metadata": {},
   "outputs": [
    {
     "name": "stdout",
     "output_type": "stream",
     "text": [
      "Пропущенные значения возраста заполнены медианой.\n",
      "Количество ответов по категориям:\n"
     ]
    },
    {
     "data": {
      "text/plain": [
       "Ответ на вопрос\n",
       "Нет    147\n",
       "Да     129\n",
       "Name: count, dtype: int64"
      ]
     },
     "execution_count": 32,
     "metadata": {},
     "output_type": "execute_result"
    }
   ],
   "source": [
    "import seaborn as sns\n",
    "import matplotlib.pyplot as plt\n",
    "\n",
    "# Так как отсутствующие данные в столбце \"Age\" занимают весомую часть, поэтому заменяем пропуски медианным значением\n",
    "median_age = df['Age'].median()\n",
    "df['Age'] = df['Age'].fillna(median_age)\n",
    "print(\"Пропущенные значения возраста заполнены медианой.\")\n",
    "\n",
    "# смотрим ответы по всем категориям\n",
    "response_counts = df['Ответ на вопрос'].value_counts()\n",
    "# print(\"Количество ответов по категориям:\")\n",
    "# response_counts\n",
    "\n",
    "# с помощью lambda функции мы перебираем список yes_responses и сверяем его с ответами в колонке 'Ответ на вопрос', в случае если значение присутствует в списке, присваиваем ему значаение 'Да' иначе 'Нет'\n",
    "yes_responses = ['да', 'да, но очень плохо описано', 'неверное решение']\n",
    "df['Ответ на вопрос'] = df['Ответ на вопрос'].apply(\n",
    "    lambda x: 'Да' if x.lower() in yes_responses else 'Нет'\n",
    ")\n",
    "\n",
    "response_counts = df['Ответ на вопрос'].value_counts()\n",
    "print(\"Количество ответов по категориям:\")\n",
    "response_counts"
   ]
  },
  {
   "cell_type": "code",
   "execution_count": 15,
   "metadata": {},
   "outputs": [
    {
     "name": "stdout",
     "output_type": "stream",
     "text": [
      "Нижняя граница: 9.0\n",
      "Верхняя граница: 41.0\n",
      "Количество выбросов по методу IQR: 12\n"
     ]
    }
   ],
   "source": [
    "# для выявления выбросов применяем метод межквартильного размаха\n",
    "import numpy as np\n",
    "from scipy import stats\n",
    "Q1 = df['Age'].quantile(0.25)\n",
    "Q3 = df['Age'].quantile(0.75)\n",
    "IQR = Q3 - Q1\n",
    "lower = Q1 - 1.5 * IQR\n",
    "upper = Q3 + 1.5 * IQR\n",
    "# нижняя граница выбросов рассчитывается как Q1 минус 1,5 раза IQR.\n",
    "# верхняя граница выбросов рассчитывается как Q3 плюс 1,5 раза IQR.\n",
    "print(f\"Нижняя граница: {lower}\")\n",
    "print(f\"Верхняя граница: {upper}\")\n",
    "\n",
    "outliers_iqr = df[(df['Age'] < lower) | (df['Age'] > upper)]\n",
    "print(f\"Количество выбросов по методу IQR: {outliers_iqr.shape[0]}\")"
   ]
  },
  {
   "cell_type": "code",
   "execution_count": 14,
   "metadata": {},
   "outputs": [
    {
     "data": {
      "image/png": "[encoded data removed]",
      "text/plain": [
       "<Figure size 1000x600 with 1 Axes>"
      ]
     },
     "metadata": {},
     "output_type": "display_data"
    }
   ],
   "source": [
    "import seaborn as sns\n",
    "import matplotlib.pyplot as plt\n",
    "\n",
    "plt.figure(figsize=(10, 6))\n",
    "sns.boxplot(x=df['Age'])\n",
    "plt.title('Коробчатая диаграмма возраста соискателей', fontsize=16)\n",
    "plt.xlabel('Возраст', fontsize=14)\n",
    "plt.show()"
   ]
  },
  {
   "cell_type": "code",
   "execution_count": 19,
   "metadata": {},
   "outputs": [
    {
     "name": "stdout",
     "output_type": "stream",
     "text": [
      "Количество строк после фильтрации по возрасту: 276 из 325\n"
     ]
    }
   ],
   "source": [
    "# Удаляем аномальные выбросы\n",
    "\n",
    "min_age = 16\n",
    "max_age = 65\n",
    "\n",
    "df_filtered = df[(df['Age'] >= min_age) & (df['Age'] < max_age)]\n",
    "print(f\"Количество строк после фильтрации по возрасту: {df_filtered.shape[0]} из {df.shape[0]}\")\n",
    "df = df_filtered.reset_index(drop=True)"
   ]
  },
  {
   "cell_type": "code",
   "execution_count": 31,
   "metadata": {},
   "outputs": [
    {
     "name": "stdout",
     "output_type": "stream",
     "text": [
      "Пропущенные значения возраста заполнены медианой.\n"
     ]
    },
    {
     "data": {
      "text/html": [
       "<div>\n",
       "<style scoped>\n",
       "    .dataframe tbody tr th:only-of-type {\n",
       "        vertical-align: middle;\n",
       "    }\n",
       "\n",
       "    .dataframe tbody tr th {\n",
       "        vertical-align: top;\n",
       "    }\n",
       "\n",
       "    .dataframe thead th {\n",
       "        text-align: right;\n",
       "    }\n",
       "</style>\n",
       "<table border=\"1\" class=\"dataframe\">\n",
       "  <thead>\n",
       "    <tr style=\"text-align: right;\">\n",
       "      <th></th>\n",
       "      <th>applicant_name</th>\n",
       "      <th>Age</th>\n",
       "      <th>Ответ на вопрос</th>\n",
       "    </tr>\n",
       "  </thead>\n",
       "  <tbody>\n",
       "    <tr>\n",
       "      <th>245</th>\n",
       "      <td>name_291</td>\n",
       "      <td>17.0</td>\n",
       "      <td>Нет</td>\n",
       "    </tr>\n",
       "    <tr>\n",
       "      <th>209</th>\n",
       "      <td>name_247</td>\n",
       "      <td>17.0</td>\n",
       "      <td>Нет</td>\n",
       "    </tr>\n",
       "    <tr>\n",
       "      <th>173</th>\n",
       "      <td>name_205</td>\n",
       "      <td>17.0</td>\n",
       "      <td>Нет</td>\n",
       "    </tr>\n",
       "    <tr>\n",
       "      <th>195</th>\n",
       "      <td>name_231</td>\n",
       "      <td>17.0</td>\n",
       "      <td>Нет</td>\n",
       "    </tr>\n",
       "    <tr>\n",
       "      <th>84</th>\n",
       "      <td>name_93</td>\n",
       "      <td>18.0</td>\n",
       "      <td>Нет</td>\n",
       "    </tr>\n",
       "    <tr>\n",
       "      <th>...</th>\n",
       "      <td>...</td>\n",
       "      <td>...</td>\n",
       "      <td>...</td>\n",
       "    </tr>\n",
       "    <tr>\n",
       "      <th>121</th>\n",
       "      <td>name_141</td>\n",
       "      <td>46.0</td>\n",
       "      <td>Нет</td>\n",
       "    </tr>\n",
       "    <tr>\n",
       "      <th>234</th>\n",
       "      <td>name_277</td>\n",
       "      <td>47.0</td>\n",
       "      <td>Нет</td>\n",
       "    </tr>\n",
       "    <tr>\n",
       "      <th>36</th>\n",
       "      <td>name_40</td>\n",
       "      <td>47.0</td>\n",
       "      <td>Нет</td>\n",
       "    </tr>\n",
       "    <tr>\n",
       "      <th>0</th>\n",
       "      <td>name_0</td>\n",
       "      <td>49.0</td>\n",
       "      <td>Нет</td>\n",
       "    </tr>\n",
       "    <tr>\n",
       "      <th>196</th>\n",
       "      <td>name_232</td>\n",
       "      <td>50.0</td>\n",
       "      <td>Нет</td>\n",
       "    </tr>\n",
       "  </tbody>\n",
       "</table>\n",
       "<p>276 rows × 3 columns</p>\n",
       "</div>"
      ],
      "text/plain": [
       "    applicant_name   Age Ответ на вопрос\n",
       "245       name_291  17.0             Нет\n",
       "209       name_247  17.0             Нет\n",
       "173       name_205  17.0             Нет\n",
       "195       name_231  17.0             Нет\n",
       "84         name_93  18.0             Нет\n",
       "..             ...   ...             ...\n",
       "121       name_141  46.0             Нет\n",
       "234       name_277  47.0             Нет\n",
       "36         name_40  47.0             Нет\n",
       "0           name_0  49.0             Нет\n",
       "196       name_232  50.0             Нет\n",
       "\n",
       "[276 rows x 3 columns]"
      ]
     },
     "execution_count": 31,
     "metadata": {},
     "output_type": "execute_result"
    }
   ],
   "source": [
    "import seaborn as sns\n",
    "import matplotlib.pyplot as plt\n",
    "\n",
    "# Так как отсутствующие данные в столбце \"Age\" занимают весомую часть, поэтому заменяем пропуски медианным значением\n",
    "median_age = df['Age'].median()\n",
    "df['Age'] = df['Age'].fillna(median_age)\n",
    "print(\"Пропущенные значения возраста заполнены медианой.\")\n",
    "\n",
    "# смотрим ответы по всем категориям\n",
    "response_counts = df['Ответ на вопрос'].value_counts()\n",
    "# print(\"Количество ответов по категориям:\")\n",
    "# response_counts\n",
    "\n",
    "# с помощью lambda функции мы перебираем список yes_responses и сверяем его с ответами в колонке 'Ответ на вопрос', в случае если значение присутствует в списке, присваиваем ему значаение 'Да' иначе 'Нет'\n",
    "yes_responses = ['да', 'да, но очень плохо описано', 'неверное решение']\n",
    "df['Ответ на вопрос'] = df['Ответ на вопрос'].apply(\n",
    "    lambda x: 'Да' if x.lower() in yes_responses else 'Нет'\n",
    ")\n",
    "\n",
    "df_sorted = df.sort_values(by='Age')\n",
    "df_sorted"
   ]
  },
  {
   "cell_type": "code",
   "execution_count": 33,
   "metadata": {},
   "outputs": [
    {
     "name": "stdout",
     "output_type": "stream",
     "text": [
      "Пропущенные значения возраста заполнены медианой.\n"
     ]
    },
    {
     "data": {
      "text/html": [
       "<div>\n",
       "<style scoped>\n",
       "    .dataframe tbody tr th:only-of-type {\n",
       "        vertical-align: middle;\n",
       "    }\n",
       "\n",
       "    .dataframe tbody tr th {\n",
       "        vertical-align: top;\n",
       "    }\n",
       "\n",
       "    .dataframe thead th {\n",
       "        text-align: right;\n",
       "    }\n",
       "</style>\n",
       "<table border=\"1\" class=\"dataframe\">\n",
       "  <thead>\n",
       "    <tr style=\"text-align: right;\">\n",
       "      <th></th>\n",
       "      <th>count</th>\n",
       "      <th>mean</th>\n",
       "      <th>std</th>\n",
       "      <th>min</th>\n",
       "      <th>25%</th>\n",
       "      <th>50%</th>\n",
       "      <th>75%</th>\n",
       "      <th>max</th>\n",
       "    </tr>\n",
       "    <tr>\n",
       "      <th>Ответ на вопрос</th>\n",
       "      <th></th>\n",
       "      <th></th>\n",
       "      <th></th>\n",
       "      <th></th>\n",
       "      <th></th>\n",
       "      <th></th>\n",
       "      <th></th>\n",
       "      <th></th>\n",
       "    </tr>\n",
       "  </thead>\n",
       "  <tbody>\n",
       "    <tr>\n",
       "      <th>Да</th>\n",
       "      <td>129.0</td>\n",
       "      <td>27.387597</td>\n",
       "      <td>6.475085</td>\n",
       "      <td>18.0</td>\n",
       "      <td>22.0</td>\n",
       "      <td>26.0</td>\n",
       "      <td>31.0</td>\n",
       "      <td>43.0</td>\n",
       "    </tr>\n",
       "    <tr>\n",
       "      <th>Нет</th>\n",
       "      <td>147.0</td>\n",
       "      <td>25.183673</td>\n",
       "      <td>7.070119</td>\n",
       "      <td>17.0</td>\n",
       "      <td>20.5</td>\n",
       "      <td>22.0</td>\n",
       "      <td>29.5</td>\n",
       "      <td>50.0</td>\n",
       "    </tr>\n",
       "  </tbody>\n",
       "</table>\n",
       "</div>"
      ],
      "text/plain": [
       "                 count       mean       std   min   25%   50%   75%   max\n",
       "Ответ на вопрос                                                          \n",
       "Да               129.0  27.387597  6.475085  18.0  22.0  26.0  31.0  43.0\n",
       "Нет              147.0  25.183673  7.070119  17.0  20.5  22.0  29.5  50.0"
      ]
     },
     "execution_count": 33,
     "metadata": {},
     "output_type": "execute_result"
    }
   ],
   "source": [
    "import seaborn as sns\n",
    "import matplotlib.pyplot as plt\n",
    "\n",
    "# Так как отсутствующие данные в столбце \"Age\" занимают весомую часть, поэтому заменяем пропуски медианным значением\n",
    "median_age = df['Age'].median()\n",
    "df['Age'] = df['Age'].fillna(median_age)\n",
    "print(\"Пропущенные значения возраста заполнены медианой.\")\n",
    "\n",
    "# смотрим ответы по всем категориям\n",
    "response_counts = df['Ответ на вопрос'].value_counts()\n",
    "# print(\"Количество ответов по категориям:\")\n",
    "# response_counts\n",
    "\n",
    "# с помощью lambda функции мы перебираем список yes_responses и сверяем его с ответами в колонке 'Ответ на вопрос', в случае если значение присутствует в списке, присваиваем ему значаение 'Да' иначе 'Нет'\n",
    "yes_responses = ['да', 'да, но очень плохо описано', 'неверное решение']\n",
    "df['Ответ на вопрос'] = df['Ответ на вопрос'].apply(\n",
    "    lambda x: 'Да' if x.lower() in yes_responses else 'Нет'\n",
    ")\n",
    "\n",
    "age_stats = df.groupby('Ответ на вопрос')['Age'].describe()\n",
    "age_stats"
   ]
  },
  {
   "cell_type": "code",
   "execution_count": 30,
   "metadata": {},
   "outputs": [
    {
     "name": "stdout",
     "output_type": "stream",
     "text": [
      "Шапиро-Уик Тест для категории 'Да': Statistics=0.9313, p-value=0.0000\n",
      "Шапиро-Уик Тест для категории 'Нет': Statistics=0.8487, p-value=0.0000\n",
      "распределение не нормальное\n"
     ]
    }
   ],
   "source": [
    "# Проверяем группы на наличия нормального распределения\n",
    "from scipy.stats import shapiro\n",
    "\n",
    "age_yes = df[df['Ответ на вопрос'] == 'Да']['Age']\n",
    "age_no = df[df['Ответ на вопрос'] == 'Нет']['Age']\n",
    "\n",
    "stat_shapiro_yes, p_shapiro_yes = stats.shapiro(age_yes)\n",
    "print(f\"Шапиро-Уик Тест для категории 'Да': Statistics={stat_shapiro_yes:.4f}, p-value={p_shapiro_yes:.4f}\")\n",
    "\n",
    "stat_shapiro_no, p_shapiro_no = stats.shapiro(age_no)\n",
    "print(f\"Шапиро-Уик Тест для категории 'Нет': Statistics={stat_shapiro_no:.4f}, p-value={p_shapiro_no:.4f}\")\n",
    "\n",
    "if p_shapiro_yes < 0.05:\n",
    "  print('распределение не нормальное')\n",
    "else:\n",
    "  print('распределение нормальное')"
   ]
  },
  {
   "cell_type": "code",
   "execution_count": 34,
   "metadata": {},
   "outputs": [
    {
     "name": "stdout",
     "output_type": "stream",
     "text": [
      "Тест Манна-Уитни: U-Statistic=11900.0, P-Value=0.0002\n",
      "Возраст соискателей влияет на выполнение тестового задания\n"
     ]
    }
   ],
   "source": [
    "# Так как у обеих групп не нормальное распределение для выявления влияния возраста соискателей на выполнение задачи в сопроводительном письме используем тест Манна-Уитни\n",
    "from scipy.stats import mannwhitneyu\n",
    "\n",
    "u_stat, p_value_mw = mannwhitneyu(age_yes, age_no, alternative='two-sided')\n",
    "print(f\"Тест Манна-Уитни: U-Statistic={u_stat}, P-Value={p_value_mw:.4f}\")\n",
    "# * alternative='two-sided' — параметр, указывающий, что проверяется двусторонняя гипотеза (т. е. медианы в двух группах могут отличаться в любом направлении).\n",
    "if p_value_mw > 0.05:\n",
    "  print('Возраст соискателей НЕ влияет на выполнение тестового задания')\n",
    "else:\n",
    "  print('Возраст соискателей влияет на выполнение тестового задания')\n",
    "\n",
    "# Тест Манна-Уитни используется для проверки того, существуют ли различия между двумя независимыми выборками, когда данные не имеют нормального распределения или когда размер выборки меньше 30. Он сравнивает медианы двух групп."
   ]
  },
  {
   "cell_type": "code",
   "execution_count": 35,
   "metadata": {},
   "outputs": [
    {
     "data": {
      "image/png": "[encoded data removed]",
      "text/plain": [
       "<Figure size 1500x800 with 1 Axes>"
      ]
     },
     "metadata": {},
     "output_type": "display_data"
    }
   ],
   "source": [
    "age_response_counts = df.groupby(['Age', 'Ответ на вопрос']).size().reset_index(name='Count')\n",
    "\n",
    "plt.figure(figsize=(15, 8))\n",
    "\n",
    "sns.barplot(\n",
    "    data=age_response_counts,\n",
    "    x='Age',\n",
    "    y='Count',\n",
    "    hue='Ответ на вопрос',\n",
    "    palette={'Да': 'green', 'Нет': 'grey'},\n",
    "    order=sorted(df['Age'].unique())\n",
    ")\n",
    "\n",
    "plt.title('Количество соискателей по возрасту и выполнению тестового задания', fontsize=16)\n",
    "plt.xlabel('Возраст', fontsize=14)\n",
    "plt.ylabel('Количество соискателей', fontsize=14)\n",
    "plt.legend(title='Выполнил тест', title_fontsize=14, fontsize=12)\n",
    "plt.xticks(rotation=90)\n",
    "plt.tight_layout()\n",
    "\n",
    "for container in plt.gca().containers:\n",
    "    plt.gca().bar_label(container, fmt='%d', label_type='edge', fontsize=10)\n",
    "\n",
    "plt.show()"
   ]
  },
  {
   "cell_type": "markdown",
   "metadata": {},
   "source": [
    "***Вывод***\\\n",
    "Если отвечать на вопрос о том, есть ли связь возраста с наличием решения, то да. Основная масса соискателей находится в пределах от 18 до 25 лет. Соискатели возрастом старше 22 лет (22-43), во основном старались выполнить задание. Из чего можно сделать вывод, что они были внимательнее и ответственнее. При этом большая часть людей просто игнорировали задание."
   ]
  }
 ],
 "metadata": {
  "kernelspec": {
   "display_name": "Python 3",
   "language": "python",
   "name": "python3"
  },
  "language_info": {
   "codemirror_mode": {
    "name": "ipython",
    "version": 3
   },
   "file_extension": ".py",
   "mimetype": "text/x-python",
   "name": "python",
   "nbconvert_exporter": "python",
   "pygments_lexer": "ipython3",
   "version": "3.12.2"
  }
 },
 "nbformat": 4,
 "nbformat_minor": 2
}
