{
 "cells": [
  {
   "cell_type": "code",
   "execution_count": 1,
   "metadata": {},
   "outputs": [
    {
     "name": "stderr",
     "output_type": "stream",
     "text": [
      "<>:3: SyntaxWarning: invalid escape sequence '\\D'\n",
      "<>:3: SyntaxWarning: invalid escape sequence '\\D'\n",
      "C:\\Users\\Максим Феликсович\\AppData\\Local\\Temp\\ipykernel_4508\\1487313591.py:3: SyntaxWarning: invalid escape sequence '\\D'\n",
      "  data_final = pd.read_csv('C:\\\\Users\\\\Максим Феликсович\\Documents\\\\GitHub\\\\my_data_analyst_road\\\\da_yandex_practicum\\\\dataset\\\\data_final.csv')\n"
     ]
    },
    {
     "name": "stdout",
     "output_type": "stream",
     "text": [
      "source                                    direct  organic\n",
      "category_name subcategory_name                           \n",
      "Авто          Автоакустика                  5915    15433\n",
      "              Автомагнитолы                 7783    18690\n",
      "              Автомобильные инверторы        145      150\n",
      "              Автомобильные компрессоры      407      790\n",
      "              Автомобильные телевизоры       975     2246\n",
      "              Автомобильные холодильники     204      285\n",
      "              Автосигнализации               494     1026\n",
      "              Аккумуляторные батареи        1175     2657\n",
      "              Антифризы                      736     1568\n",
      "              Багажники, рейлинги            342      664\n"
     ]
    }
   ],
   "source": [
    "import pandas as pd\n",
    "\n",
    "data_final = pd.read_csv('C:\\\\Users\\\\Максим Феликсович\\Documents\\\\GitHub\\\\my_data_analyst_road\\\\da_yandex_practicum\\\\dataset\\\\data_final.csv')\n",
    "\n",
    "data_pivot = data_final.pivot_table(index=['category_name', 'subcategory_name'], columns='source', values='visits', aggfunc='sum')\n",
    "\n",
    "print(data_pivot.head(10))"
   ]
  },
  {
   "cell_type": "code",
   "execution_count": null,
   "metadata": {},
   "outputs": [],
   "source": [
    "import pandas as pd\n",
    "data_final = pd.read_csv('C:\\\\Users\\\\Максим Феликсович\\Documents\\\\GitHub\\\\my_data_analyst_road\\\\da_yandex_practicum\\\\dataset\\\\data_final.csv')\n",
    "data_pivot = data_final.pivot_table(index=['category_name', 'subcategory_name'], columns='source', values='visits', aggfunc='sum')\n",
    "\n",
    "data_pivot['ratio'] = data_pivot['organic'] / data_pivot['direct']\n",
    "\n",
    "print(data_pivot.head(10))"
   ]
  }
 ],
 "metadata": {
  "kernelspec": {
   "display_name": "Python 3",
   "language": "python",
   "name": "python3"
  },
  "language_info": {
   "codemirror_mode": {
    "name": "ipython",
    "version": 3
   },
   "file_extension": ".py",
   "mimetype": "text/x-python",
   "name": "python",
   "nbconvert_exporter": "python",
   "pygments_lexer": "ipython3",
   "version": "3.12.2"
  }
 },
 "nbformat": 4,
 "nbformat_minor": 2
}
