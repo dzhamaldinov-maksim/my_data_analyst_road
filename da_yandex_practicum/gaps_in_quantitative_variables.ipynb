{
 "cells": [
  {
   "cell_type": "code",
   "execution_count": 3,
   "metadata": {},
   "outputs": [
    {
     "name": "stdout",
     "output_type": "stream",
     "text": [
      "      user_id device_type   age    time\n",
      "0  7141786820     desktop  33.0  2127.0\n",
      "1  5644686960      mobile  30.0    35.0\n",
      "2  1914055396     desktop  25.0     NaN\n",
      "3  4099355752     desktop  25.0  2123.0\n",
      "4  6032477554     desktop  27.0    59.0\n",
      "5  5872473344      mobile  27.0     NaN\n",
      "6  7977025176      mobile   NaN     NaN\n",
      "7  3512872755     desktop  40.0    65.0\n",
      "8  1827368713     desktop  37.0     NaN\n",
      "9  8688870165     desktop  36.0  2124.0\n"
     ]
    }
   ],
   "source": [
    "# Самая высокая конверсия у email-сообщений, а контекстная реклама немного подводит. Анализ на этом может быть закончен, но аналитик должен уметь решать задачи «вокруг».\n",
    "\n",
    "# Кроме источников трафика, из Яндекс.Метрики можно получить агрегированную информацию о пользователях.\n",
    "\n",
    "import pandas as pd\n",
    "metrica = pd.read_csv('C:\\\\Users\\\\Максим Феликсович\\\\Documents\\\\GitHub\\\\my_data_analyst_road\\\\da_yandex_practicum\\\\dataset\\\\metrica_data.csv')\n",
    "\n",
    "\n",
    "print(metrica.head(10)) \n",
    "\n",
    "# Время и возраст — количественные переменные. Пропуски в таких переменных заполняют характерными значениями. Это значения, характеризующие состояние выборки, — набора данных, выбранных для проведения исследования. Чтобы примерно оценить типичные значения выборки, годятся среднее арифметическое или медиана.\n"
   ]
  },
  {
   "cell_type": "code",
   "execution_count": 2,
   "metadata": {},
   "outputs": [
    {
     "name": "stdout",
     "output_type": "stream",
     "text": [
      "32.48966336969903\n"
     ]
    }
   ],
   "source": [
    "import pandas as pd\n",
    "metrica = pd.read_csv('C:\\\\Users\\\\Максим Феликсович\\\\Documents\\\\GitHub\\\\my_data_analyst_road\\\\da_yandex_practicum\\\\dataset\\\\metrica_data.csv')\n",
    "\n",
    "age_avg = metrica['age'].mean()\n",
    "print(age_avg)\n",
    "\n",
    "# подсчитали среднеарифметическое возраста, средняя подходит для подсчета возраста"
   ]
  },
  {
   "cell_type": "code",
   "execution_count": 2,
   "metadata": {},
   "outputs": [
    {
     "name": "stdout",
     "output_type": "stream",
     "text": [
      "      user_id device_type   age    time\n",
      "0  7141786820     desktop  33.0  2127.0\n",
      "1  5644686960      mobile  30.0    35.0\n",
      "2  1914055396     desktop  25.0     NaN\n",
      "3  4099355752     desktop  25.0  2123.0\n",
      "4  6032477554     desktop  27.0    59.0\n",
      "5  5872473344      mobile  27.0     NaN\n",
      "6  7977025176      mobile   NaN     NaN\n",
      "7  3512872755     desktop  40.0    65.0\n",
      "8  1827368713     desktop  37.0     NaN\n",
      "9  8688870165     desktop  36.0  2124.0\n"
     ]
    }
   ],
   "source": [
    "import pandas as pd\n",
    "metrica = pd.read_csv('C:\\\\Users\\\\Максим Феликсович\\\\Documents\\\\GitHub\\\\my_data_analyst_road\\\\da_yandex_practicum\\\\dataset\\\\metrica_data.csv')\n",
    "\n",
    "\n",
    "age_avg = metrica['age'].mean() # вычисляем средний возраст\n",
    "metrica['age'] = metrica['age'].fillna(value=age_avg) # заменяем все пуропущенные значения средним \n",
    "print(metrica.head(10))"
   ]
  },
  {
   "cell_type": "code",
   "execution_count": 4,
   "metadata": {},
   "outputs": [
    {
     "name": "stdout",
     "output_type": "stream",
     "text": [
      "1430.1294506106535\n"
     ]
    }
   ],
   "source": [
    "import pandas as pd\n",
    "metrica = pd.read_csv('C:\\\\Users\\\\Максим Феликсович\\\\Documents\\\\GitHub\\\\my_data_analyst_road\\\\da_yandex_practicum\\\\dataset\\\\metrica_data.csv')\n",
    "\n",
    "time_avg = metrica['time'].mean()\n",
    "print(time_avg)"
   ]
  },
  {
   "cell_type": "code",
   "execution_count": 7,
   "metadata": {},
   "outputs": [
    {
     "name": "stdout",
     "output_type": "stream",
     "text": [
      "1741.8747158537378\n"
     ]
    }
   ],
   "source": [
    "import pandas as pd\n",
    "metrica = pd.read_csv('C:\\\\Users\\\\Максим Феликсович\\\\Documents\\\\GitHub\\\\my_data_analyst_road\\\\da_yandex_practicum\\\\dataset\\\\metrica_data.csv')\n",
    "\n",
    "# df.loc[строковые индексы, столбцовые индексы], а \":\" применено для выбора всех строк\n",
    "# == 'desktop' - это логическое условие, которое\n",
    "desktop_data = metrica.loc[metrica.loc[:,'device_type'] == 'desktop']\n",
    "# print(metrica.head(10))\n",
    "desktop_data_time_avg = desktop_data['time'].mean()\n",
    "print(desktop_data_time_avg)\n",
    "\n",
    "# Результат этого условия - булевый массив, где True соответствует строкам с типом устройства 'desktop', а False - остальным строкам.\n",
    "\n",
    "# Метод loc затем использует этот булевый массив для выбора строк из фрейма данных metrica, которые соответствуют условию (True). Результат присваивается новой переменной desktop_data."
   ]
  },
  {
   "cell_type": "markdown",
   "metadata": {},
   "source": [
    "**Метод query**\n",
    "\n",
    "Метод **query** в Pandas используется для фильтрации строк в фрейме данных на основе логического выражения. Синтаксис следующий:\n",
    "\n",
    "***df.query(\"логическое_выражение\")***\n",
    "\n",
    "Логическое выражение может содержать условия, операторы сравнения и логические операторы. Он возвращает булевый массив, где True соответствует строкам, удовлетворяющим условию, а False - остальным строкам. Метод query затем использует этот массив для выбора строк из фрейма данных, которые соответствуют условию.\n",
    "\n",
    "**Пример:**\n",
    "\n",
    "   id  name  age\\\n",
    "0   1   Alice  25\\\n",
    "1   2   Bob   30\\\n",
    "2   3   Carol 22\\\n",
    "3   4   Dave  28\\\n",
    "4   5   Eve   24\n",
    "\n",
    "Чтобы выбрать все строки, где возраст больше 25 лет, мы можем использовать:\n",
    "\n",
    "*query:*\\\n",
    "***df.query(\"age > 25\")***\n",
    "\n",
    "*loc:*\\\n",
    "***df.loc[df['age'] > 25]***\n",
    "\n",
    "Но для более сложных выражений, query куда понятнее loc.\\\n",
    "***df.query(\"(age > 25) & (name == 'Bob')\")***\n",
    "\n"
   ]
  },
  {
   "cell_type": "code",
   "execution_count": 13,
   "metadata": {},
   "outputs": [
    {
     "name": "stdout",
     "output_type": "stream",
     "text": [
      "41.15691239238949\n"
     ]
    }
   ],
   "source": [
    "import pandas as pd\n",
    "metrica = pd.read_csv('C:\\\\Users\\\\Максим Феликсович\\\\Documents\\\\GitHub\\\\my_data_analyst_road\\\\da_yandex_practicum\\\\dataset\\\\metrica_data.csv')\n",
    "\n",
    "type_device = metrica.loc[metrica.loc[:,'device_type'] == 'mobile']\n",
    "# type_device = metrica[metrica['device_type'] == 'mobile']\n",
    "# print(type_device.head(5))\n",
    "mobile_data_time_avg = type_device['time'].mean()\n",
    "print(mobile_data_time_avg)\n",
    "\n",
    "#        user_id device_type   age  time\n",
    "# 1   5644686960      mobile  30.0  35.0\n",
    "# 5   5872473344      mobile  27.0   NaN\n",
    "# 6   7977025176      mobile   NaN   NaN\n",
    "# 10  7172802697      mobile  30.0   NaN\n",
    "# 14  9312844109      mobile   NaN  40.0"
   ]
  }
 ],
 "metadata": {
  "kernelspec": {
   "display_name": "Python 3",
   "language": "python",
   "name": "python3"
  },
  "language_info": {
   "codemirror_mode": {
    "name": "ipython",
    "version": 3
   },
   "file_extension": ".py",
   "mimetype": "text/x-python",
   "name": "python",
   "nbconvert_exporter": "python",
   "pygments_lexer": "ipython3",
   "version": "3.12.2"
  }
 },
 "nbformat": 4,
 "nbformat_minor": 2
}
