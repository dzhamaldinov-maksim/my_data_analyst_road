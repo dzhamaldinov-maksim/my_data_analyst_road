{
 "cells": [
  {
   "cell_type": "markdown",
   "metadata": {},
   "source": [
    "Восстановите справедливость: верните Рону его факультет, заменив значение NaN на 'Гриффиндор' методом fillna(). Выведите на экран таблицу hogwarts_points."
   ]
  },
  {
   "cell_type": "code",
   "execution_count": null,
   "metadata": {},
   "outputs": [],
   "source": [
    "import pandas as pd\n",
    "hogwarts_points = pd.read_csv('/datasets/hogwarts_points.csv')\n",
    "hogwarts_points['faculty_name'] = hogwarts_points['faculty_name'].fillna('Гриффиндор')\n",
    "\n",
    "print(hogwarts_points)"
   ]
  },
  {
   "cell_type": "code",
   "execution_count": null,
   "metadata": {},
   "outputs": [],
   "source": [
    "import pandas as pd\n",
    "hogwarts_points = pd.read_csv('/datasets/hogwarts_points.csv')\n",
    "hogwarts_points['faculty_name'] = hogwarts_points['faculty_name'].fillna(value='Гриффиндор')\n",
    "\n",
    "print('Сумма баллов учеников:', hogwarts_points['points'].sum())# сумма значений столбца 'points'\n",
    "print('Сумма баллов факультетов:', hogwarts_points.groupby('faculty_name')['points'].sum().sum()) # сгруппируйте по столбцу 'faculty_name' и сложите значения столбца 'points' этой группировки методом sum()\n",
    "print('Кубок получает', hogwarts_points.groupby('faculty_name')['points'].sum().idxmax())# и примените метод sum() к результату"
   ]
  },
  {
   "cell_type": "markdown",
   "metadata": {},
   "source": [
    "Применим полученные в Хогвартсе знания к реальной задаче. Возьмём источники трафика Яндекс.Маркета и рассчитаем конверсию.\n",
    "Найдите количество визитов из каждого источника трафика, результат сохраните в переменной visits и выведите на экран."
   ]
  },
  {
   "cell_type": "code",
   "execution_count": 6,
   "metadata": {},
   "outputs": [
    {
     "name": "stderr",
     "output_type": "stream",
     "text": [
      "<>:2: SyntaxWarning: invalid escape sequence '\\D'\n",
      "<>:2: SyntaxWarning: invalid escape sequence '\\D'\n",
      "C:\\Users\\Максим Феликсович\\AppData\\Local\\Temp\\ipykernel_8584\\802226279.py:2: SyntaxWarning: invalid escape sequence '\\D'\n",
      "  logs = pd.read_csv('C:\\\\Users\\\\Максим Феликсович\\Documents\\\\GitHub\\\\my_data_analyst_road\\\\da_yandex_practicum\\\\dataset\\\\logs.csv')\n"
     ]
    },
    {
     "name": "stdout",
     "output_type": "stream",
     "text": [
      "source\n",
      "context     52032\n",
      "email       12279\n",
      "other      133834\n",
      "undef         181\n",
      "Name: user_id, dtype: int64\n"
     ]
    }
   ],
   "source": [
    "import pandas as pd\n",
    "logs = pd.read_csv('C:\\\\Users\\\\Максим Феликсович\\Documents\\\\GitHub\\\\my_data_analyst_road\\\\da_yandex_practicum\\\\dataset\\\\logs.csv')\n",
    "\n",
    "visits = logs.groupby('source')['user_id'].count() # то есть считаем количество user_id для каждого источника трафика\n",
    "\n",
    "print(visits)"
   ]
  },
  {
   "cell_type": "markdown",
   "metadata": {},
   "source": [
    "Посчитайте количество совершённых покупок для каждого источника трафика. Результат сохраните в переменной purchase и выведите на экран."
   ]
  },
  {
   "cell_type": "code",
   "execution_count": 8,
   "metadata": {},
   "outputs": [
    {
     "name": "stderr",
     "output_type": "stream",
     "text": [
      "<>:2: SyntaxWarning: invalid escape sequence '\\D'\n",
      "<>:2: SyntaxWarning: invalid escape sequence '\\D'\n",
      "C:\\Users\\Максим Феликсович\\AppData\\Local\\Temp\\ipykernel_8584\\1981988260.py:2: SyntaxWarning: invalid escape sequence '\\D'\n",
      "  logs = pd.read_csv('C:\\\\Users\\\\Максим Феликсович\\Documents\\\\GitHub\\\\my_data_analyst_road\\\\da_yandex_practicum\\\\dataset\\\\logs.csv')\n"
     ]
    },
    {
     "name": "stdout",
     "output_type": "stream",
     "text": [
      "source\n",
      "context    3029\n",
      "email       913\n",
      "other      8041\n",
      "undef        12\n",
      "Name: purchase, dtype: int64\n"
     ]
    }
   ],
   "source": [
    "import pandas as pd\n",
    "logs = pd.read_csv('C:\\\\Users\\\\Максим Феликсович\\Documents\\\\GitHub\\\\my_data_analyst_road\\\\da_yandex_practicum\\\\dataset\\\\logs.csv')\n",
    "\n",
    "purchase = logs.groupby('source')['purchase'].sum() # здесь логика другая, мы считаем сумму покупок на каждый источник трафика\n",
    "\n",
    "print(purchase)"
   ]
  },
  {
   "cell_type": "markdown",
   "metadata": {},
   "source": [
    "Посчитайте конверсию по каждому источнику трафика, результат сохраните в переменной conversion и выведите на экран."
   ]
  },
  {
   "cell_type": "code",
   "execution_count": 10,
   "metadata": {},
   "outputs": [
    {
     "name": "stderr",
     "output_type": "stream",
     "text": [
      "<>:2: SyntaxWarning: invalid escape sequence '\\D'\n",
      "<>:2: SyntaxWarning: invalid escape sequence '\\D'\n",
      "C:\\Users\\Максим Феликсович\\AppData\\Local\\Temp\\ipykernel_8584\\2019964427.py:2: SyntaxWarning: invalid escape sequence '\\D'\n",
      "  logs = pd.read_csv('C:\\\\Users\\\\Максим Феликсович\\Documents\\\\GitHub\\\\my_data_analyst_road\\\\da_yandex_practicum\\\\dataset\\\\logs.csv')\n"
     ]
    },
    {
     "name": "stdout",
     "output_type": "stream",
     "text": [
      "source\n",
      "context    0.058214\n",
      "email      0.074355\n",
      "other      0.060082\n",
      "undef      0.066298\n",
      "dtype: float64\n"
     ]
    }
   ],
   "source": [
    "import pandas as pd\n",
    "logs = pd.read_csv('C:\\\\Users\\\\Максим Феликсович\\Documents\\\\GitHub\\\\my_data_analyst_road\\\\da_yandex_practicum\\\\dataset\\\\logs.csv')\n",
    "\n",
    "purchase = logs.groupby('source')['purchase'].sum()\n",
    "visits = logs.groupby('source')['user_id'].count()\n",
    "\n",
    "conversion = purchase/visits # поделите количество покупок на количество визитов\n",
    "\n",
    "print(conversion)\n"
   ]
  }
 ],
 "metadata": {
  "kernelspec": {
   "display_name": "Python 3",
   "language": "python",
   "name": "python3"
  },
  "language_info": {
   "codemirror_mode": {
    "name": "ipython",
    "version": 3
   },
   "file_extension": ".py",
   "mimetype": "text/x-python",
   "name": "python",
   "nbconvert_exporter": "python",
   "pygments_lexer": "ipython3",
   "version": "3.12.2"
  }
 },
 "nbformat": 4,
 "nbformat_minor": 2
}
