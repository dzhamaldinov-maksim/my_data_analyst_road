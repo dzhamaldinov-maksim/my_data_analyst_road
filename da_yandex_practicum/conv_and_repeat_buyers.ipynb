{
 "cells": [
  {
   "cell_type": "markdown",
   "metadata": {},
   "source": [
    "**Рассчитайте конверсию визитов в покупки из рассылок и контекстной рекламы, сохраните значения в переменных email_conversion и context_conversion соответственно.**"
   ]
  },
  {
   "cell_type": "code",
   "execution_count": 4,
   "metadata": {},
   "outputs": [
    {
     "name": "stdout",
     "output_type": "stream",
     "text": [
      "Конверсия рассылок: 5%\n",
      "Конверсия контекстной рекламы: 4%\n"
     ]
    }
   ],
   "source": [
    "email_visits = 1000 # количество визитов из рассылок\n",
    "context_visits = 2500 # количество визитов из контекстной рекламы\n",
    "email_purchases = 50 # количество покупок из рассылок\n",
    "context_purchases = 100 # количество покупок из контекстной рекламы\n",
    "\n",
    "email_conversion = email_purchases / email_visits\n",
    "context_conversion = context_purchases / context_visits # отношение количества покупок к количеству посещений.\n",
    "\n",
    "print('Конверсия рассылок: {:.0%}'.format(email_conversion))\n",
    "print('Конверсия контекстной рекламы: {:.0%}'.format(context_conversion))"
   ]
  },
  {
   "cell_type": "markdown",
   "metadata": {},
   "source": [
    "**Пример использования метода format()**\n",
    "\n",
    "name = \"Alice\"\\\n",
    "age = 30\\\n",
    "formatted_string = \"Имя: {}, Возраст: {}\".format(name, age)\\\n",
    "print(formatted_string)  # Вывод: Имя: Alice, Возраст: 30\n",
    "\n",
    "\n",
    "**Форматирование процентов**\n",
    "\n",
    "Когда вы используете спецификатор :.0%, это означает следующее:\\\n",
    ".: указывает на начало спецификации точности.\\\n",
    "0: указывает количество десятичных знаков, которое нужно отобразить (в данном случае — 0).\\\n",
    "%: указывает, что значение должно быть представлено в процентном формате.\\\n",
    "Таким образом, если у вас есть число в виде десятичной дроби (например, 0.85), использование :.0% преобразует\\\n",
    "его в \"85%\" без десятичных знаков.\n",
    "\n",
    "**Ещё одна важная метрика —** доля повторных покупателей. Если из 100 совершивших покупку 10 вернулись и снова что-нибудь купили, эта доля составит 10 / 100 * 100% = 10%."
   ]
  },
  {
   "cell_type": "markdown",
   "metadata": {},
   "source": [
    "**Продолжим автоматизировать труд маркетологов: научим Python сравнивать источники трафика и выбирать лучший.** Если конверсия рассылок email_conversion больше конверсии контекстной рекламы context_conversion, выведите на экран: 'Вывод: рассылки эффективнее'. Если наоборот, то: 'Вывод: контекстная реклама эффективнее'. \n",
    "\n",
    "**Добавим случай, когда конверсии равны. При равенстве конверсий выведем: 'Конверсии равны, пора смотреть другие метрики'.**\\\n",
    "if - elif - else"
   ]
  },
  {
   "cell_type": "code",
   "execution_count": null,
   "metadata": {},
   "outputs": [],
   "source": [
    "if email_conversion > context_conversion:\n",
    "    print('Вывод: рассылки эффективнее')\n",
    "elif email_conversion == context_conversion:\n",
    "    print('Конверсии равны, пора смотреть другие метрики')\n",
    "else:\n",
    "    print('Вывод: контекстная реклама эффективнее')"
   ]
  },
  {
   "cell_type": "markdown",
   "metadata": {},
   "source": [
    "**Рассчитать общее количество покупателей.**"
   ]
  },
  {
   "cell_type": "code",
   "execution_count": null,
   "metadata": {},
   "outputs": [],
   "source": [
    "first_purchase = 885 # количество пользователей, совершивших 1 покупку\n",
    "repeated_purchase = 136 # количество пользователей, совершивших 2 и более покупок\n",
    "total = first_purchase + repeated_purchase # общее количество покупателей\n",
    "print(f'Общее количество покупателей: {total}')\n"
   ]
  },
  {
   "cell_type": "markdown",
   "metadata": {},
   "source": [
    "**Посчитайте долю повторных покупок как отношение repeated_purchase к total.** Ответ положите в переменную repeated_purchase_part."
   ]
  },
  {
   "cell_type": "code",
   "execution_count": null,
   "metadata": {},
   "outputs": [],
   "source": [
    "first_purchase = 885\n",
    "repeated_purchase = 136\n",
    "total = first_purchase + repeated_purchase\n",
    "repeated_purchase_part = repeated_purchase / total # поделите количество пользователей, совершивших 2 и более покупок, на общее количество покупателей\n",
    "print('Доля повторных покупок равна {:.0%}'.format(repeated_purchase_part))"
   ]
  },
  {
   "cell_type": "code",
   "execution_count": 6,
   "metadata": {},
   "outputs": [
    {
     "name": "stdout",
     "output_type": "stream",
     "text": [
      "<class 'pandas.core.frame.DataFrame'>\n",
      "RangeIndex: 21525 entries, 0 to 21524\n",
      "Data columns (total 12 columns):\n",
      " #   Column            Non-Null Count  Dtype  \n",
      "---  ------            --------------  -----  \n",
      " 0   children          21525 non-null  int64  \n",
      " 1   days_employed     19351 non-null  float64\n",
      " 2   dob_years         21525 non-null  int64  \n",
      " 3   education         21525 non-null  object \n",
      " 4   education_id      21525 non-null  int64  \n",
      " 5   family_status     21525 non-null  object \n",
      " 6   family_status_id  21525 non-null  int64  \n",
      " 7   gender            21525 non-null  object \n",
      " 8   income_type       21525 non-null  object \n",
      " 9   debt              21525 non-null  int64  \n",
      " 10  total_income      19351 non-null  float64\n",
      " 11  purpose           21525 non-null  object \n",
      "dtypes: float64(2), int64(5), object(5)\n",
      "memory usage: 2.0+ MB\n"
     ]
    }
   ],
   "source": [
    "# import pandas as pd\n",
    "# import numpy as np\n",
    "\n",
    "# df = pd.read_csv('C:\\\\Users\\\\Максим Феликсович\\\\Documents\\\\GitHub\\\\my_data_analyst_road\\\\da_yandex_practicum\\\\dataset\\\\data.csv')\n",
    "\n",
    "# df.info()"
   ]
  },
  {
   "cell_type": "markdown",
   "metadata": {},
   "source": [
    "**ЗАДАНИЕ**\\\n",
    "Прочитайте содержимое файла returned.csv и сохраните его в датафрейме purchases. Посчитайте общее число покупок для каждого источника трафика. Результат запишите в столбец 'total'. Выведите весь датафрейм на экран."
   ]
  },
  {
   "cell_type": "code",
   "execution_count": null,
   "metadata": {},
   "outputs": [],
   "source": [
    "import pandas as pd\n",
    "\n",
    "purchases = pd.read_csv('/datasets/returned.csv')\n",
    "purchases['total'] = purchases['first'] + purchases['repeated'] # складываем столбцы\n",
    "print(purchases.head())"
   ]
  },
  {
   "cell_type": "markdown",
   "metadata": {},
   "source": [
    "**ЗАДАНИЕ**\\\n",
    "Для каждого источника трафика посчитайте долю повторных покупок — отношение количества повторных ко всем покупкам. Выведите весь датафрейм на экран."
   ]
  },
  {
   "cell_type": "code",
   "execution_count": null,
   "metadata": {},
   "outputs": [],
   "source": [
    "import pandas as pd\n",
    "purchases = pd.read_csv('/datasets/returned.csv')\n",
    "purchases['total'] = purchases['first'] + purchases['repeated']\n",
    "purchases['repeated_share'] = purchases['repeated'] / purchases['total'] # отношение повторных покупок ко всем покупкам\n",
    "\n",
    "print(purchases.head())"
   ]
  },
  {
   "cell_type": "markdown",
   "metadata": {},
   "source": [
    "**ЗАДАНИЕ**\\\n",
    "Постройте рейтинг источников трафика по доле повторных покупок. Отсортируйте датафрейм purchases по убыванию значений столбца 'repeated_share'. "
   ]
  },
  {
   "cell_type": "code",
   "execution_count": null,
   "metadata": {},
   "outputs": [],
   "source": [
    "import pandas as pd\n",
    "purchases = pd.read_csv('/datasets/returned.csv')\n",
    "purchases['total'] = purchases['first'] + purchases['repeated']\n",
    "purchases['repeated_share'] = purchases['repeated'] / purchases['total']\n",
    "print(purchases.sort_values(by='repeated_share', ascending=False)) # by='repeated_share': Этот аргумент указывает, по какому столбцу следует выполнять сортировку. \n",
    "# ascending=False: Этот аргумент указывает порядок сортировки. Если он установлен в False, данные будут отсортированы в порядке убывания (от большего к меньшему). "
   ]
  }
 ],
 "metadata": {
  "kernelspec": {
   "display_name": "Python 3",
   "language": "python",
   "name": "python3"
  },
  "language_info": {
   "codemirror_mode": {
    "name": "ipython",
    "version": 3
   },
   "file_extension": ".py",
   "mimetype": "text/x-python",
   "name": "python",
   "nbconvert_exporter": "python",
   "pygments_lexer": "ipython3",
   "version": "3.12.2"
  }
 },
 "nbformat": 4,
 "nbformat_minor": 2
}
