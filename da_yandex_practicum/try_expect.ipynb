{
 "cells": [
  {
   "cell_type": "code",
   "execution_count": null,
   "metadata": {},
   "outputs": [],
   "source": [
    "position = [['2019-05-01', '6'],\n",
    "            ['2019-05-02', '5'],\n",
    "            ['2019-05-03', '5'],\n",
    "            ['2019-05-04', '4'],\n",
    "            ['2019-05-05', '5'],\n",
    "            ['2019-05-06', '5'],\n",
    "            ['2019-05-07', '4'],\n",
    "            ['2019-05-08', '4'],\n",
    "            ['2019-05-09', '3'],\n",
    "            ['2019-05-10', '3']]\n",
    "count_lines = 0\n",
    "\n",
    "for row in position:\n",
    "    count_lines += 1 #допишите ваш код здесь\n",
    "    #print(row)\n",
    "\n",
    "print(count_lines)  "
   ]
  },
  {
   "cell_type": "code",
   "execution_count": null,
   "metadata": {},
   "outputs": [],
   "source": [
    "position = [['2019-05-01', '6'],\n",
    "            ['2019-05-02', '5'],\n",
    "            ['2019-05-03', '5'],\n",
    "            ['2019-05-04', '4'],\n",
    "            ['2019-05-05', '5'],\n",
    "            ['2019-05-06', '5'],\n",
    "            ['2019-05-07', '4'],\n",
    "            ['2019-05-08', '4'],\n",
    "            ['2019-05-09', '3'],\n",
    "            ['2019-05-10', '3']]\n",
    "\n",
    "count_lines = 0\n",
    "total_position = 0\n",
    "\n",
    "for row in position:\n",
    "    count_lines += 1\n",
    "    level = int(row[1]) #в этой переменной сохраняем позицию в выдаче \n",
    "\n",
    "# * row[1] извлекает второй элемент из строки row. В списке position второй элемент каждой строки представляет собой позицию.\n",
    "\n",
    "# * int(row[1]) преобразует позицию из строки в целое число. Это необходимо, потому что позиция хранится в виде строки в списке position, но нам нужно числовое значение для вычисления среднего.\n",
    "\n",
    "# Например, если row равно ['2019-05-01', '6'], то row[1] будет равно '6', а int(row[1]) будет равно 6.\n",
    "    total_position += level #здесь складываем все позиции переменной \n",
    "\n",
    "print(total_position/count_lines)\n",
    "# этот код подсчитывает среднюю позицию в поисковой выдаче для списка результатов поиска, хранящихся в переменной position. Он полезен для анализа видимости и эффективности поисковой оптимизации."
   ]
  },
  {
   "cell_type": "code",
   "execution_count": 1,
   "metadata": {},
   "outputs": [
    {
     "name": "stdout",
     "output_type": "stream",
     "text": [
      "Количество измерений 10\n",
      "Количество некорректных строк 2\n"
     ]
    }
   ],
   "source": [
    "position = [['2019-05-01', '- 6'],\n",
    "            ['2019-05-02', '+5'],\n",
    "            ['2019-05-03', ' 5'],\n",
    "            ['2019-05-04', '4'],\n",
    "            ['2019-05-05', '5'],\n",
    "            ['2019-05-06', '5'],\n",
    "            ['2019-05-07', '4'],\n",
    "            ['2019-05-08', 'Error 5'],\n",
    "            ['2019-05-09', '3'],\n",
    "            ['2019-05-10', '3']]\n",
    "\n",
    "\n",
    "count_lines = 0\n",
    "total_position = 0\n",
    "wrong_lines = 0\n",
    "\n",
    "for row in position:\n",
    "    try:\n",
    "        count_lines += 1\n",
    "        level = int(row[1])\n",
    "        total_position += level\n",
    "    except:\n",
    "        wrong_lines +=1\n",
    "\n",
    "print(f'Количество измерений {count_lines}')\n",
    "print(f'Количество некорректных строк {wrong_lines}')"
   ]
  },
  {
   "cell_type": "code",
   "execution_count": 2,
   "metadata": {},
   "outputs": [
    {
     "name": "stdout",
     "output_type": "stream",
     "text": [
      "Количество измерений 10\n",
      "Некорректные строки [['2019-05-01', '- 6'], ['2019-05-08', 'Error 5']]\n"
     ]
    }
   ],
   "source": [
    "# здесь мы будем записывать неправильные строки в отдельный список\n",
    "\n",
    "position = [['2019-05-01', '- 6'],\n",
    "            ['2019-05-02', '+5'],\n",
    "            ['2019-05-03', ' 5'],\n",
    "            ['2019-05-04', '4'],\n",
    "            ['2019-05-05', '5'],\n",
    "            ['2019-05-06', '5'],\n",
    "            ['2019-05-07', '4'],\n",
    "            ['2019-05-08', 'Error 5'],\n",
    "            ['2019-05-09', '3'],\n",
    "            ['2019-05-10', '3']]\n",
    "\n",
    "\n",
    "total_position = 0\n",
    "count_lines = 0\n",
    "wrong_lines_content = []\n",
    "\n",
    "\n",
    "for row in position:\n",
    "        try:\n",
    "            count_lines += 1\n",
    "            level = int(row[1])\n",
    "            total_position += level\n",
    "        except:\n",
    "            wrong_lines_content.append(row)\n",
    "    \n",
    "        \n",
    "\n",
    "print(f'Количество измерений {count_lines}')\n",
    "print(f'Некорректные строки {wrong_lines_content}')"
   ]
  }
 ],
 "metadata": {
  "kernelspec": {
   "display_name": "Python 3",
   "language": "python",
   "name": "python3"
  },
  "language_info": {
   "codemirror_mode": {
    "name": "ipython",
    "version": 3
   },
   "file_extension": ".py",
   "mimetype": "text/x-python",
   "name": "python",
   "nbconvert_exporter": "python",
   "pygments_lexer": "ipython3",
   "version": "3.12.2"
  }
 },
 "nbformat": 4,
 "nbformat_minor": 2
}
