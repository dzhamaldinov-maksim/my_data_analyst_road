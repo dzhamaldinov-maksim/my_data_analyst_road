{
 "cells": [
  {
   "cell_type": "code",
   "execution_count": 4,
   "metadata": {},
   "outputs": [
    {
     "name": "stdout",
     "output_type": "stream",
     "text": [
      "['direct' 'organic']\n"
     ]
    }
   ],
   "source": [
    "import pandas as pd\n",
    "data = pd.read_excel('C:\\\\Users\\\\Максим Феликсович\\\\Documents\\\\GitHub\\\\my_data_analyst_road\\\\da_yandex_practicum\\\\dataset\\\\seo_data.xlsx', sheet_name='traffic_data') #прочитайте файл seo_data, лист traffic_data \n",
    "\n",
    "# print(data.head(5))\n",
    "print(data['source'].unique())"
   ]
  },
  {
   "cell_type": "code",
   "execution_count": 5,
   "metadata": {},
   "outputs": [
    {
     "name": "stdout",
     "output_type": "stream",
     "text": [
      "  subcategory_id                subcategory_name category_id\n",
      "0     cf2e61c7af              Мобильные телефоны  09f279a643\n",
      "1     0cd903d1cc                        Ноутбуки  3509869a61\n",
      "2     ef35bc88a7                      Телевизоры  09f279a643\n",
      "3     6ff9f4014c                        Планшеты  3509869a61\n",
      "4     72bc238e4d  Наушники и Bluetooth-гарнитуры  09f279a643\n"
     ]
    }
   ],
   "source": [
    "import pandas as pd\n",
    "subcategory_ids = pd.read_excel('C:\\\\Users\\\\Максим Феликсович\\\\Documents\\\\GitHub\\\\my_data_analyst_road\\\\da_yandex_practicum\\\\dataset\\\\seo_data.xlsx', sheet_name='subcategory_ids')\n",
    "\n",
    "print(subcategory_ids.head(5))"
   ]
  },
  {
   "cell_type": "code",
   "execution_count": 9,
   "metadata": {},
   "outputs": [
    {
     "name": "stdout",
     "output_type": "stream",
     "text": [
      "  category_id               category_name\n",
      "0  09f279a643                 Электроника\n",
      "1  3509869a61        Компьютерная техника\n",
      "2  65922fa39c                        Авто\n",
      "3  6074ad29ac  Одежда, обувь и аксессуары\n",
      "4  10a493e03b         Товары для здоровья\n"
     ]
    }
   ],
   "source": [
    "import pandas as pd\n",
    "category_dict = pd.read_excel('C:\\\\Users\\\\Максим Феликсович\\\\Documents\\\\GitHub\\\\my_data_analyst_road\\\\da_yandex_practicum\\\\dataset\\\\seo_data.xlsx', sheet_name='category_ids')\n",
    "\n",
    "print(category_dict.head(5))"
   ]
  },
  {
   "cell_type": "code",
   "execution_count": 12,
   "metadata": {},
   "outputs": [
    {
     "name": "stdout",
     "output_type": "stream",
     "text": [
      "<class 'pandas.core.frame.DataFrame'>\n",
      "RangeIndex: 1930 entries, 0 to 1929\n",
      "Data columns (total 3 columns):\n",
      " #   Column          Non-Null Count  Dtype \n",
      "---  ------          --------------  ----- \n",
      " 0   subcategory_id  1930 non-null   object\n",
      " 1   source          1930 non-null   object\n",
      " 2   visits          1930 non-null   object\n",
      "dtypes: object(3)\n",
      "memory usage: 45.4+ KB\n",
      "None\n"
     ]
    }
   ],
   "source": [
    "# Данные загружены и выглядят корректными. Нам нужно соотношение прямого и поискового трафика для каждой категории. Оценим, как обстоят дела с поисковой оптимизацией вообще — разделим число визитов по прямым ссылкам на число заходов с поисковиков.\n",
    "import pandas as pd\n",
    "data = pd.read_excel('C:\\\\Users\\\\Максим Феликсович\\\\Documents\\\\GitHub\\\\my_data_analyst_road\\\\da_yandex_practicum\\\\dataset\\\\seo_data.xlsx', sheet_name='traffic_data')\n",
    "\n",
    "# print(data.groupby('source').sum()) строкак кода не сработала из-за некорректных данных\n",
    "\n",
    "print(data.info())"
   ]
  },
  {
   "cell_type": "code",
   "execution_count": 3,
   "metadata": {},
   "outputs": [
    {
     "name": "stdout",
     "output_type": "stream",
     "text": [
      "<class 'pandas.core.frame.DataFrame'>\n",
      "RangeIndex: 49 entries, 0 to 48\n",
      "Data columns (total 3 columns):\n",
      " #   Column    Non-Null Count  Dtype  \n",
      "---  ------    --------------  -----  \n",
      " 0   id        48 non-null     float64\n",
      " 1   category  49 non-null     object \n",
      " 2   amount    45 non-null     float64\n",
      "dtypes: float64(2), object(1)\n",
      "memory usage: 1.3+ KB\n",
      "596107.1\n"
     ]
    }
   ],
   "source": [
    "import pandas as pd\n",
    "transactions = pd.read_excel('C:\\\\Users\\\\Максим Феликсович\\\\Documents\\\\GitHub\\\\my_data_analyst_road\\\\da_yandex_practicum\\\\dataset\\\\ids.xlsx')\n",
    "\n",
    "transactions['id'] = pd.to_numeric(transactions['id'], errors='coerce')\n",
    "transactions['amount'] = pd.to_numeric(transactions['amount'], errors='coerce')\n",
    "# меняем тип данных на числовой путем замены значений Null на NaN\n",
    "\n",
    "# print(transactions.tail())\n",
    "transactions.info()\n",
    "\n",
    "print(transactions['amount'].sum())"
   ]
  },
  {
   "attachments": {
    "astype.png": {
     "image/png": "[encoded data removed]"
    }
   },
   "cell_type": "markdown",
   "metadata": {},
   "source": [
    "У метода to_numeric() есть параметр errors. От значений, принимаемых errors, зависят действия to_numeric при встрече с некорректным значением:\n",
    "\n",
    "errors='raise' — дефолтное поведение: при встрече с некорректным значением выдаётся ошибка, операция перевода в числа прерывается\\\n",
    "errors='coerce' — некорректные значения принудительно заменяются на NaN\\\n",
    "errors='ignore' — некорректные значения игнорируются, но остаются.\n",
    "\n",
    "![astype.png](attachment:astype.png)"
   ]
  },
  {
   "cell_type": "code",
   "execution_count": 4,
   "metadata": {},
   "outputs": [
    {
     "name": "stdout",
     "output_type": "stream",
     "text": [
      "category\n",
      "A       133988.50\n",
      "B       168617.89\n",
      "C       173332.50\n",
      "D        62630.82\n",
      "E        57537.39\n",
      "Null         0.00\n",
      "Name: amount, dtype: float64\n"
     ]
    }
   ],
   "source": [
    "import pandas as pd\n",
    "transactions = pd.read_excel('C:\\\\Users\\\\Максим Феликсович\\\\Documents\\\\GitHub\\\\my_data_analyst_road\\\\da_yandex_practicum\\\\dataset\\\\ids.xlsx')\n",
    "\n",
    "transactions['id'] = pd.to_numeric(transactions['id'], errors='coerce')\n",
    "transactions['amount'] = pd.to_numeric(transactions['amount'], errors='coerce')\n",
    "# Эта строка кода использует библиотеку pandas для преобразования столбца 'visits' датафрейма data в тип numeric. Параметр errors='coerce' указывает, что значения, которые не могут быть преобразованы в число, должны быть заменены на NaN (отсутствующие значения).\n",
    "\n",
    "# Таким образом, эта строка кода заменяет все значения в столбце 'visits' на числовые значения, а значения, которые нельзя преобразовать в числа, заменяются на NaN.\n",
    "\n",
    "print(transactions.groupby('category')['amount'].sum())"
   ]
  },
  {
   "cell_type": "code",
   "execution_count": 8,
   "metadata": {},
   "outputs": [
    {
     "name": "stdout",
     "output_type": "stream",
     "text": [
      "subcategory_id        total\n",
      "source               direct\n",
      "visits            \"2369468\"\n",
      "Name: 964, dtype: object\n"
     ]
    }
   ],
   "source": [
    "import pandas as pd\n",
    "data = pd.read_excel('C:\\\\Users\\\\Максим Феликсович\\\\Documents\\\\GitHub\\\\my_data_analyst_road\\\\da_yandex_practicum\\\\dataset\\\\seo_data.xlsx', sheet_name='traffic_data')\n",
    "\n",
    "print(data.loc[964])"
   ]
  },
  {
   "cell_type": "code",
   "execution_count": 9,
   "metadata": {},
   "outputs": [
    {
     "name": "stdout",
     "output_type": "stream",
     "text": [
      "Количество строк: 1930\n",
      "     subcategory_id   source     visits\n",
      "964           total   direct  \"2369468\"\n",
      "1929          total  organic  \"5687882\"\n"
     ]
    }
   ],
   "source": [
    "import pandas as pd\n",
    "data = pd.read_excel('C:\\\\Users\\\\Максим Феликсович\\\\Documents\\\\GitHub\\\\my_data_analyst_road\\\\da_yandex_practicum\\\\dataset\\\\seo_data.xlsx', sheet_name='traffic_data')\n",
    "\n",
    "print('Количество строк:', data.shape[0])\n",
    "# shape выводит количество строк и столбцов, но так как мы указали [0], то мы получим количество именно строк\n",
    "print(data[data['subcategory_id'] == 'total']) \n",
    "# выводим все строки , которые имеют значение 'total' в столбце 'subcategory_id'"
   ]
  },
  {
   "cell_type": "code",
   "execution_count": 1,
   "metadata": {},
   "outputs": [
    {
     "name": "stdout",
     "output_type": "stream",
     "text": [
      "source\n",
      "direct     2368980\n",
      "organic    5687407\n",
      "Name: visits, dtype: int64\n"
     ]
    }
   ],
   "source": [
    "import pandas as pd\n",
    "data = pd.read_excel('C:\\\\Users\\\\Максим Феликсович\\\\Documents\\\\GitHub\\\\my_data_analyst_road\\\\da_yandex_practicum\\\\dataset\\\\seo_data.xlsx', sheet_name='traffic_data')\n",
    "\n",
    "data = data[data['subcategory_id'] != 'total']\n",
    "# Строка кода data = data[data['subcategory_id'] != 'total'] выполняет фильтрацию данных в переменной data, удаляя все строки, в которых столбец subcategory_id имеет значение total.\n",
    "\n",
    "# В результате выполнения этого выражения переменная data будет содержать DataFrame с данными, где поле subcategory_id не равно total. Это достигается с помощью оператора индексации, который выбирает все строки из DataFrame data, кроме тех, у которых значение subcategory_id равно total.\n",
    "\n",
    "# print(data[data['subcategory_id'] == 'total'])\n",
    "\n",
    "data['visits'] = data['visits'].astype('int')\n",
    "# print(data.info())\n",
    "print(data.groupby('source')['visits'].sum())"
   ]
  }
 ],
 "metadata": {
  "kernelspec": {
   "display_name": "Python 3",
   "language": "python",
   "name": "python3"
  },
  "language_info": {
   "codemirror_mode": {
    "name": "ipython",
    "version": 3
   },
   "file_extension": ".py",
   "mimetype": "text/x-python",
   "name": "python",
   "nbconvert_exporter": "python",
   "pygments_lexer": "ipython3",
   "version": "3.12.2"
  }
 },
 "nbformat": 4,
 "nbformat_minor": 2
}
