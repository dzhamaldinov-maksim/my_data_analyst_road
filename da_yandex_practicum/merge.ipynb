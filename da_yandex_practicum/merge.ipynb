{
 "cells": [
  {
   "cell_type": "code",
   "execution_count": 2,
   "metadata": {},
   "outputs": [
    {
     "name": "stderr",
     "output_type": "stream",
     "text": [
      "<>:2: SyntaxWarning: invalid escape sequence '\\D'\n",
      "<>:3: SyntaxWarning: invalid escape sequence '\\D'\n",
      "<>:2: SyntaxWarning: invalid escape sequence '\\D'\n",
      "<>:3: SyntaxWarning: invalid escape sequence '\\D'\n",
      "C:\\Users\\Максим Феликсович\\AppData\\Local\\Temp\\ipykernel_5956\\4272368661.py:2: SyntaxWarning: invalid escape sequence '\\D'\n",
      "  data = pd.read_excel('C:\\\\Users\\\\Максим Феликсович\\Documents\\\\GitHub\\\\my_data_analyst_road\\\\da_yandex_practicum\\\\dataset\\\\seo_data.xlsx', sheet_name='traffic_data')\n",
      "C:\\Users\\Максим Феликсович\\AppData\\Local\\Temp\\ipykernel_5956\\4272368661.py:3: SyntaxWarning: invalid escape sequence '\\D'\n",
      "  subcategory_dict = pd.read_excel('C:\\\\Users\\\\Максим Феликсович\\Documents\\\\GitHub\\\\my_data_analyst_road\\\\da_yandex_practicum\\\\dataset\\\\seo_data.xlsx', sheet_name='subcategory_ids')\n"
     ]
    },
    {
     "name": "stdout",
     "output_type": "stream",
     "text": [
      "  subcategory_id  source         visits                subcategory_name  \\\n",
      "0     cf2e61c7af  direct  501165.668858              Мобильные телефоны   \n",
      "1     0cd903d1cc  direct  126342.359505                        Ноутбуки   \n",
      "2     ef35bc88a7  direct   95626.321402                      Телевизоры   \n",
      "3     6ff9f4014c  direct   75680.653002                        Планшеты   \n",
      "4     72bc238e4d  direct   64435.934651  Наушники и Bluetooth-гарнитуры   \n",
      "5     88c78ea685  direct   39638.202995                            Шины   \n",
      "6     179bfacf4a  direct   31007.471245           Умные часы и браслеты   \n",
      "7     b0fb8f259a  direct   30324.097324                        Мониторы   \n",
      "8     3c67eb2d90  direct   25878.814329                   Наручные часы   \n",
      "9     24e6c815c6  direct   25276.373358  Лекарственные препараты и БАДы   \n",
      "\n",
      "  category_id  \n",
      "0  09f279a643  \n",
      "1  3509869a61  \n",
      "2  09f279a643  \n",
      "3  3509869a61  \n",
      "4  09f279a643  \n",
      "5  65922fa39c  \n",
      "6  09f279a643  \n",
      "7  3509869a61  \n",
      "8  6074ad29ac  \n",
      "9  10a493e03b  \n"
     ]
    }
   ],
   "source": [
    "import pandas as pd\n",
    "data = pd.read_excel('C:\\\\Users\\\\Максим Феликсович\\Documents\\\\GitHub\\\\my_data_analyst_road\\\\da_yandex_practicum\\\\dataset\\\\seo_data.xlsx', sheet_name='traffic_data')\n",
    "subcategory_dict = pd.read_excel('C:\\\\Users\\\\Максим Феликсович\\Documents\\\\GitHub\\\\my_data_analyst_road\\\\da_yandex_practicum\\\\dataset\\\\seo_data.xlsx', sheet_name='subcategory_ids')\n",
    "\n",
    "data_subcategory = data.merge(subcategory_dict, on='subcategory_id', how='left')\n",
    "# Объединяем таблицы subcategory_dict и data.\n",
    "print(data_subcategory.head(10))"
   ]
  },
  {
   "cell_type": "code",
   "execution_count": 1,
   "metadata": {},
   "outputs": [
    {
     "name": "stderr",
     "output_type": "stream",
     "text": [
      "<>:2: SyntaxWarning: invalid escape sequence '\\D'\n",
      "<>:3: SyntaxWarning: invalid escape sequence '\\D'\n",
      "<>:4: SyntaxWarning: invalid escape sequence '\\D'\n",
      "<>:2: SyntaxWarning: invalid escape sequence '\\D'\n",
      "<>:3: SyntaxWarning: invalid escape sequence '\\D'\n",
      "<>:4: SyntaxWarning: invalid escape sequence '\\D'\n",
      "C:\\Users\\Максим Феликсович\\AppData\\Local\\Temp\\ipykernel_5956\\3110079890.py:2: SyntaxWarning: invalid escape sequence '\\D'\n",
      "  data = pd.read_excel('C:\\\\Users\\\\Максим Феликсович\\Documents\\\\GitHub\\\\my_data_analyst_road\\\\da_yandex_practicum\\\\dataset\\\\seo_data.xlsx', sheet_name='traffic_data')\n",
      "C:\\Users\\Максим Феликсович\\AppData\\Local\\Temp\\ipykernel_5956\\3110079890.py:3: SyntaxWarning: invalid escape sequence '\\D'\n",
      "  subcategory_dict = pd.read_excel('C:\\\\Users\\\\Максим Феликсович\\Documents\\\\GitHub\\\\my_data_analyst_road\\\\da_yandex_practicum\\\\dataset\\\\seo_data.xlsx', sheet_name='subcategory_ids')\n",
      "C:\\Users\\Максим Феликсович\\AppData\\Local\\Temp\\ipykernel_5956\\3110079890.py:4: SyntaxWarning: invalid escape sequence '\\D'\n",
      "  category_dict = pd.read_excel('C:\\\\Users\\\\Максим Феликсович\\Documents\\\\GitHub\\\\my_data_analyst_road\\\\da_yandex_practicum\\\\dataset\\\\seo_data.xlsx', sheet_name='category_ids')\n"
     ]
    },
    {
     "name": "stdout",
     "output_type": "stream",
     "text": [
      "  subcategory_id  source         visits                subcategory_name  \\\n",
      "0     cf2e61c7af  direct  501165.668858              Мобильные телефоны   \n",
      "1     0cd903d1cc  direct  126342.359505                        Ноутбуки   \n",
      "2     ef35bc88a7  direct   95626.321402                      Телевизоры   \n",
      "3     6ff9f4014c  direct   75680.653002                        Планшеты   \n",
      "4     72bc238e4d  direct   64435.934651  Наушники и Bluetooth-гарнитуры   \n",
      "5     88c78ea685  direct   39638.202995                            Шины   \n",
      "6     179bfacf4a  direct   31007.471245           Умные часы и браслеты   \n",
      "7     b0fb8f259a  direct   30324.097324                        Мониторы   \n",
      "8     3c67eb2d90  direct   25878.814329                   Наручные часы   \n",
      "9     24e6c815c6  direct   25276.373358  Лекарственные препараты и БАДы   \n",
      "\n",
      "  category_id               category_name  \n",
      "0  09f279a643                 Электроника  \n",
      "1  3509869a61        Компьютерная техника  \n",
      "2  09f279a643                 Электроника  \n",
      "3  3509869a61        Компьютерная техника  \n",
      "4  09f279a643                 Электроника  \n",
      "5  65922fa39c                        Авто  \n",
      "6  09f279a643                 Электроника  \n",
      "7  3509869a61        Компьютерная техника  \n",
      "8  6074ad29ac  Одежда, обувь и аксессуары  \n",
      "9  10a493e03b         Товары для здоровья  \n"
     ]
    }
   ],
   "source": [
    "import pandas as pd\n",
    "data = pd.read_excel('C:\\\\Users\\\\Максим Феликсович\\Documents\\\\GitHub\\\\my_data_analyst_road\\\\da_yandex_practicum\\\\dataset\\\\seo_data.xlsx', sheet_name='traffic_data')\n",
    "subcategory_dict = pd.read_excel('C:\\\\Users\\\\Максим Феликсович\\Documents\\\\GitHub\\\\my_data_analyst_road\\\\da_yandex_practicum\\\\dataset\\\\seo_data.xlsx', sheet_name='subcategory_ids')\n",
    "category_dict = pd.read_excel('C:\\\\Users\\\\Максим Феликсович\\Documents\\\\GitHub\\\\my_data_analyst_road\\\\da_yandex_practicum\\\\dataset\\\\seo_data.xlsx', sheet_name='category_ids')\n",
    "data_subcategory = data.merge(subcategory_dict, on='subcategory_id', how='left')\n",
    "\n",
    "data_final = data_subcategory.merge(category_dict, on = 'category_id', how='left')\n",
    "# Объединяем таблицы data_subcategory и category_dict. Результат в переменной data_final\n",
    "\n",
    "print(data_final.head(10))"
   ]
  },
  {
   "cell_type": "code",
   "execution_count": 5,
   "metadata": {},
   "outputs": [
    {
     "name": "stderr",
     "output_type": "stream",
     "text": [
      "<>:4: SyntaxWarning: invalid escape sequence '\\D'\n",
      "<>:5: SyntaxWarning: invalid escape sequence '\\D'\n",
      "<>:6: SyntaxWarning: invalid escape sequence '\\D'\n",
      "<>:4: SyntaxWarning: invalid escape sequence '\\D'\n",
      "<>:5: SyntaxWarning: invalid escape sequence '\\D'\n",
      "<>:6: SyntaxWarning: invalid escape sequence '\\D'\n",
      "C:\\Users\\Максим Феликсович\\AppData\\Local\\Temp\\ipykernel_9092\\1920981530.py:4: SyntaxWarning: invalid escape sequence '\\D'\n",
      "  data = pd.read_excel('C:\\\\Users\\\\Максим Феликсович\\Documents\\\\GitHub\\\\my_data_analyst_road\\\\da_yandex_practicum\\\\dataset\\\\seo_data.xlsx', sheet_name='traffic_data')\n",
      "C:\\Users\\Максим Феликсович\\AppData\\Local\\Temp\\ipykernel_9092\\1920981530.py:5: SyntaxWarning: invalid escape sequence '\\D'\n",
      "  subcategory_dict = pd.read_excel('C:\\\\Users\\\\Максим Феликсович\\Documents\\\\GitHub\\\\my_data_analyst_road\\\\da_yandex_practicum\\\\dataset\\\\seo_data.xlsx', sheet_name='subcategory_ids')\n",
      "C:\\Users\\Максим Феликсович\\AppData\\Local\\Temp\\ipykernel_9092\\1920981530.py:6: SyntaxWarning: invalid escape sequence '\\D'\n",
      "  category_dict = pd.read_excel('C:\\\\Users\\\\Максим Феликсович\\Documents\\\\GitHub\\\\my_data_analyst_road\\\\da_yandex_practicum\\\\dataset\\\\seo_data.xlsx', sheet_name='category_ids')\n"
     ]
    },
    {
     "name": "stdout",
     "output_type": "stream",
     "text": [
      "source category_name            subcategory_name       direct       organic\n",
      "0               Авто                Автоакустика  5915.606541  15433.405558\n",
      "1               Авто               Автомагнитолы  7783.806626  18690.016622\n",
      "2               Авто     Автомобильные инверторы   145.925199    150.592871\n",
      "3               Авто   Автомобильные компрессоры   407.264303    790.164679\n",
      "4               Авто    Автомобильные телевизоры   975.978827   2246.595618\n",
      "5               Авто  Автомобильные холодильники   204.631014    285.110834\n",
      "6               Авто            Автосигнализации   494.025691   1026.092391\n",
      "7               Авто      Аккумуляторные батареи   1175.22751   2657.217881\n",
      "8               Авто                   Антифризы   736.588757   1568.277621\n",
      "9               Авто         Багажники, рейлинги   342.372257    664.308906\n"
     ]
    }
   ],
   "source": [
    "# Сделаем сводную таблицу методом pivot_table()\n",
    "\n",
    "import pandas as pd\n",
    "data = pd.read_excel('C:\\\\Users\\\\Максим Феликсович\\Documents\\\\GitHub\\\\my_data_analyst_road\\\\da_yandex_practicum\\\\dataset\\\\seo_data.xlsx', sheet_name='traffic_data')\n",
    "subcategory_dict = pd.read_excel('C:\\\\Users\\\\Максим Феликсович\\Documents\\\\GitHub\\\\my_data_analyst_road\\\\da_yandex_practicum\\\\dataset\\\\seo_data.xlsx', sheet_name='subcategory_ids')\n",
    "category_dict = pd.read_excel('C:\\\\Users\\\\Максим Феликсович\\Documents\\\\GitHub\\\\my_data_analyst_road\\\\da_yandex_practicum\\\\dataset\\\\seo_data.xlsx', sheet_name='category_ids')\n",
    "\n",
    "data_subcategory = data.merge(subcategory_dict, on='subcategory_id', how='left')\n",
    "data_final = data_subcategory.merge(category_dict, on = 'category_id', how='left')\n",
    "\n",
    "data_pivot = data_final.pivot_table(index=['category_name', 'subcategory_name'], columns='source', values='visits', aggfunc='sum')\n",
    "# print(data_pivot.head(10)) \n",
    "# Теперь мы видим название категории и её подкатегории со значениями объёма трафика по каждой.\n",
    "\n",
    "# Часто при работе с такими датафреймами мультииндекс убирают, чтобы категория была отображена на каждой строчке датафрейма:\n",
    "data_pivot_with_reset_index = data_pivot.reset_index()\n",
    "print(data_pivot_with_reset_index.head(10)) "
   ]
  },
  {
   "cell_type": "markdown",
   "metadata": {},
   "source": [
    "В таблице выше суммы визитов visits по каждому из источников source (direct и organic) представлены в отдельных столбцах. Такой вид таблицы называется «широкий». Он удобен, когда нужно сравнить значения столбцов. Хорошо заметно, например, что в подкатегории «Автомобильные инверторы» количество визитов из источников direct и organic практически одинаково, а в подкатегории «Автомагнитолы» из источника organic пришло почти в два раза больше посетителей, чем из direct."
   ]
  },
  {
   "cell_type": "code",
   "execution_count": 6,
   "metadata": {},
   "outputs": [
    {
     "name": "stderr",
     "output_type": "stream",
     "text": [
      "<>:2: SyntaxWarning: invalid escape sequence '\\D'\n",
      "<>:3: SyntaxWarning: invalid escape sequence '\\D'\n",
      "<>:4: SyntaxWarning: invalid escape sequence '\\D'\n",
      "<>:2: SyntaxWarning: invalid escape sequence '\\D'\n",
      "<>:3: SyntaxWarning: invalid escape sequence '\\D'\n",
      "<>:4: SyntaxWarning: invalid escape sequence '\\D'\n",
      "C:\\Users\\Максим Феликсович\\AppData\\Local\\Temp\\ipykernel_9092\\2102078097.py:2: SyntaxWarning: invalid escape sequence '\\D'\n",
      "  data = pd.read_excel('C:\\\\Users\\\\Максим Феликсович\\Documents\\\\GitHub\\\\my_data_analyst_road\\\\da_yandex_practicum\\\\dataset\\\\seo_data.xlsx', sheet_name='traffic_data')\n",
      "C:\\Users\\Максим Феликсович\\AppData\\Local\\Temp\\ipykernel_9092\\2102078097.py:3: SyntaxWarning: invalid escape sequence '\\D'\n",
      "  subcategory_dict = pd.read_excel('C:\\\\Users\\\\Максим Феликсович\\Documents\\\\GitHub\\\\my_data_analyst_road\\\\da_yandex_practicum\\\\dataset\\\\seo_data.xlsx', sheet_name='subcategory_ids')\n",
      "C:\\Users\\Максим Феликсович\\AppData\\Local\\Temp\\ipykernel_9092\\2102078097.py:4: SyntaxWarning: invalid escape sequence '\\D'\n",
      "  category_dict = pd.read_excel('C:\\\\Users\\\\Максим Феликсович\\Documents\\\\GitHub\\\\my_data_analyst_road\\\\da_yandex_practicum\\\\dataset\\\\seo_data.xlsx', sheet_name='category_ids')\n"
     ]
    },
    {
     "name": "stdout",
     "output_type": "stream",
     "text": [
      "                                                       visits\n",
      "category_name subcategory_name          source               \n",
      "Авто          Автоакустика              direct    5915.606541\n",
      "                                        organic  15433.405558\n",
      "              Автомагнитолы             direct    7783.806626\n",
      "                                        organic  18690.016622\n",
      "              Автомобильные инверторы   direct     145.925199\n",
      "                                        organic    150.592871\n",
      "              Автомобильные компрессоры direct     407.264303\n",
      "                                        organic    790.164679\n",
      "              Автомобильные телевизоры  direct     975.978827\n",
      "                                        organic   2246.595618\n"
     ]
    }
   ],
   "source": [
    "import pandas as pd\n",
    "data = pd.read_excel('C:\\\\Users\\\\Максим Феликсович\\Documents\\\\GitHub\\\\my_data_analyst_road\\\\da_yandex_practicum\\\\dataset\\\\seo_data.xlsx', sheet_name='traffic_data')\n",
    "subcategory_dict = pd.read_excel('C:\\\\Users\\\\Максим Феликсович\\Documents\\\\GitHub\\\\my_data_analyst_road\\\\da_yandex_practicum\\\\dataset\\\\seo_data.xlsx', sheet_name='subcategory_ids')\n",
    "category_dict = pd.read_excel('C:\\\\Users\\\\Максим Феликсович\\Documents\\\\GitHub\\\\my_data_analyst_road\\\\da_yandex_practicum\\\\dataset\\\\seo_data.xlsx', sheet_name='category_ids')\n",
    "\n",
    "data_subcategory = data.merge(subcategory_dict, on='subcategory_id', how='left')\n",
    "data_final = data_subcategory.merge(category_dict, on = 'category_id', how='left')\n",
    "\n",
    "\n",
    "data_grouped = data_final.groupby(['category_name','subcategory_name','source']).agg({'visits':'sum'})\n",
    "print(data_grouped.head(10)) "
   ]
  },
  {
   "cell_type": "markdown",
   "metadata": {},
   "source": [
    "Сгруппировав данные методами groupby() и agg() вместо pivot_table(), мы получили точно такие же данные, но в несколько другом виде. Он называется «длинный». Методы groupby() и agg() удобны, когда нужно применить функцию к столбцу со сгруппированными визитами visits или создать новый столбец на его основе:"
   ]
  },
  {
   "cell_type": "code",
   "execution_count": 7,
   "metadata": {},
   "outputs": [
    {
     "name": "stderr",
     "output_type": "stream",
     "text": [
      "<>:2: SyntaxWarning: invalid escape sequence '\\D'\n",
      "<>:3: SyntaxWarning: invalid escape sequence '\\D'\n",
      "<>:4: SyntaxWarning: invalid escape sequence '\\D'\n",
      "<>:2: SyntaxWarning: invalid escape sequence '\\D'\n",
      "<>:3: SyntaxWarning: invalid escape sequence '\\D'\n",
      "<>:4: SyntaxWarning: invalid escape sequence '\\D'\n",
      "C:\\Users\\Максим Феликсович\\AppData\\Local\\Temp\\ipykernel_9092\\7426651.py:2: SyntaxWarning: invalid escape sequence '\\D'\n",
      "  data = pd.read_excel('C:\\\\Users\\\\Максим Феликсович\\Documents\\\\GitHub\\\\my_data_analyst_road\\\\da_yandex_practicum\\\\dataset\\\\seo_data.xlsx', sheet_name='traffic_data')\n",
      "C:\\Users\\Максим Феликсович\\AppData\\Local\\Temp\\ipykernel_9092\\7426651.py:3: SyntaxWarning: invalid escape sequence '\\D'\n",
      "  subcategory_dict = pd.read_excel('C:\\\\Users\\\\Максим Феликсович\\Documents\\\\GitHub\\\\my_data_analyst_road\\\\da_yandex_practicum\\\\dataset\\\\seo_data.xlsx', sheet_name='subcategory_ids')\n",
      "C:\\Users\\Максим Феликсович\\AppData\\Local\\Temp\\ipykernel_9092\\7426651.py:4: SyntaxWarning: invalid escape sequence '\\D'\n",
      "  category_dict = pd.read_excel('C:\\\\Users\\\\Максим Феликсович\\Documents\\\\GitHub\\\\my_data_analyst_road\\\\da_yandex_practicum\\\\dataset\\\\seo_data.xlsx', sheet_name='category_ids')\n"
     ]
    },
    {
     "name": "stdout",
     "output_type": "stream",
     "text": [
      "                                                       visits daily_visits\n",
      "category_name subcategory_name          source                            \n",
      "Авто          Автоакустика              direct    5915.606541   197.186885\n",
      "                                        organic  15433.405558   514.446852\n",
      "              Автомагнитолы             direct    7783.806626   259.460221\n",
      "                                        organic  18690.016622   623.000554\n",
      "              Автомобильные инверторы   direct     145.925199     4.864173\n",
      "                                        organic    150.592871     5.019762\n",
      "              Автомобильные компрессоры direct     407.264303    13.575477\n",
      "                                        organic    790.164679    26.338823\n",
      "              Автомобильные телевизоры  direct     975.978827    32.532628\n",
      "                                        organic   2246.595618    74.886521\n"
     ]
    }
   ],
   "source": [
    "import pandas as pd\n",
    "data = pd.read_excel('C:\\\\Users\\\\Максим Феликсович\\Documents\\\\GitHub\\\\my_data_analyst_road\\\\da_yandex_practicum\\\\dataset\\\\seo_data.xlsx', sheet_name='traffic_data')\n",
    "subcategory_dict = pd.read_excel('C:\\\\Users\\\\Максим Феликсович\\Documents\\\\GitHub\\\\my_data_analyst_road\\\\da_yandex_practicum\\\\dataset\\\\seo_data.xlsx', sheet_name='subcategory_ids')\n",
    "category_dict = pd.read_excel('C:\\\\Users\\\\Максим Феликсович\\Documents\\\\GitHub\\\\my_data_analyst_road\\\\da_yandex_practicum\\\\dataset\\\\seo_data.xlsx', sheet_name='category_ids')\n",
    "\n",
    "data_subcategory = data.merge(subcategory_dict, on='subcategory_id', how='left')\n",
    "data_final = data_subcategory.merge(category_dict, on = 'category_id', how='left')\n",
    "\n",
    "data_grouped['daily_visits'] = data_grouped['visits'] / 30\n",
    "print(data_grouped.head(10)) "
   ]
  }
 ],
 "metadata": {
  "kernelspec": {
   "display_name": "Python 3",
   "language": "python",
   "name": "python3"
  },
  "language_info": {
   "codemirror_mode": {
    "name": "ipython",
    "version": 3
   },
   "file_extension": ".py",
   "mimetype": "text/x-python",
   "name": "python",
   "nbconvert_exporter": "python",
   "pygments_lexer": "ipython3",
   "version": "3.12.2"
  }
 },
 "nbformat": 4,
 "nbformat_minor": 2
}
