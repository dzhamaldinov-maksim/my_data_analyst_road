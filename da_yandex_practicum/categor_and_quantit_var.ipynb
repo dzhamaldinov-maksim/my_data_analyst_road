{
 "cells": [
  {
   "cell_type": "code",
   "execution_count": 1,
   "metadata": {},
   "outputs": [
    {
     "name": "stdout",
     "output_type": "stream",
     "text": [
      "      user_id   source       email  purchase\n",
      "0  7141786820    other         NaN         0\n",
      "1  5644686960    email  c129aa540a         0\n",
      "2  1914055396  context         NaN         0\n",
      "3  4099355752    other         NaN         0\n",
      "4  6032477554  context         NaN         1\n",
      "purchase\n"
     ]
    }
   ],
   "source": [
    "import pandas as pd\n",
    "logs = pd.read_csv('C:\\\\Users\\\\Максим Феликсович\\\\Documents\\\\GitHub\\\\my_data_analyst_road\\\\da_yandex_practicum\\\\dataset\\\\logs.csv')\n",
    "print(logs.head())\n",
    "print('purchase')\n",
    "\n",
    "# Нередко встречаются логические (булевы) переменные, которые указывают на достоверность какого-либо события, например участия клиента в программе лояльности. Если событие истинно, то переменная принимает значение 1, соответствующее True, а если ложно — 0, соответствующее False. Переменные заданы числами, но они обозначают не количество, а категорию. Значит, логические переменные входят в раздел категориальных."
   ]
  },
  {
   "cell_type": "code",
   "execution_count": 2,
   "metadata": {},
   "outputs": [
    {
     "name": "stdout",
     "output_type": "stream",
     "text": [
      "name manufacturer category color reseller\n"
     ]
    }
   ],
   "source": [
    "# Выведите на экран названия категориальных переменных.\n",
    "\n",
    "variables = [ 'name', # название товара\n",
    "              'num_reviews', # количество отзывов\n",
    "              'manufacturer', # производитель\n",
    "              'medium_price', # средняя цена\n",
    "              'min_price', # минимальная цена\n",
    "              'max_price', # максимальная цена\n",
    "              'category', # категория\n",
    "              'color', # цвет\n",
    "              'reseller', # продавец\n",
    "              'has_discount', # есть ли скидки?\n",
    "]\n",
    "\n",
    "print('name', 'manufacturer', 'category', 'color', 'reseller')"
   ]
  },
  {
   "cell_type": "code",
   "execution_count": 3,
   "metadata": {},
   "outputs": [
    {
     "name": "stdout",
     "output_type": "stream",
     "text": [
      "accommodates bathroom bedrooms beds price\n"
     ]
    }
   ],
   "source": [
    "#  Выведите названия количественных переменных.\n",
    "\n",
    "variables = [ 'host_name', # имя хозяина жилья\n",
    "              'city', # город\n",
    "              'zipcode', # индекс\n",
    "              'accommodates', # количество гостей\n",
    "              'bathroom', # количество ванных комнат\n",
    "              'bedrooms', # количество спальных комнат\n",
    "              'beds', # количество кроватей\n",
    "              'price', # цена\n",
    "]\n",
    "\n",
    "print(variables[3], variables[4],variables[5], variables[6], variables[7])\n",
    "# одним вызовом функции print()"
   ]
  },
  {
   "cell_type": "code",
   "execution_count": 4,
   "metadata": {},
   "outputs": [
    {
     "name": "stdout",
     "output_type": "stream",
     "text": [
      "user_id news_type event tag\n"
     ]
    }
   ],
   "source": [
    "# Выведите названия категориальных переменных.\n",
    "\n",
    "variables = [ 'user_id',  # id пользователя\n",
    "              'news_type',  # тип новостного сообщения\n",
    "              'event',  # вид события: клик, показ\n",
    "              'tag',  # тема новостного сообщения\n",
    "]\n",
    "\n",
    "print(variables[0], variables[1], variables[2], variables[3])\n",
    "# Значения категориальной переменной нельзя сложить или сравнить количественно. Например как user_id. "
   ]
  },
  {
   "cell_type": "code",
   "execution_count": 5,
   "metadata": {},
   "outputs": [
    {
     "name": "stdout",
     "output_type": "stream",
     "text": [
      "goal pledged backers\n"
     ]
    }
   ],
   "source": [
    "# Выведите названия количественных переменных.\n",
    "\n",
    "variables = [ 'project_id', # id проекта\n",
    "              'category', # категория проекта\n",
    "              'goal', # сколько денег хотят собрать\n",
    "              'pledged', # сколько собрали\n",
    "              'state', # статус проекта\n",
    "              'backers' # количество человек, которые отправили деньги\n",
    "]\n",
    "\n",
    "print(variables[2], variables[3], variables[5])\n",
    "# Выведите переменные, принимающие любое числовое значение в диапазоне."
   ]
  }
 ],
 "metadata": {
  "kernelspec": {
   "display_name": "Python 3",
   "language": "python",
   "name": "python3"
  },
  "language_info": {
   "codemirror_mode": {
    "name": "ipython",
    "version": 3
   },
   "file_extension": ".py",
   "mimetype": "text/x-python",
   "name": "python",
   "nbconvert_exporter": "python",
   "pygments_lexer": "ipython3",
   "version": "3.12.2"
  }
 },
 "nbformat": 4,
 "nbformat_minor": 2
}
